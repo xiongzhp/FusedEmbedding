{
 "cells": [
  {
   "cell_type": "code",
   "execution_count": 1,
   "metadata": {},
   "outputs": [
    {
     "name": "stdout",
     "output_type": "stream",
     "text": [
      "2019.03.2\n",
      "L1400-Natural-Product-Library.sdf\n",
      "L1300-FDA-approved-Drug-Library.sdf\n",
      "L1200-Kinase-Inhibitor-Library.sdf\n",
      "L3900-Preclinical-and-Clinical-Compound-Library.sdf\n",
      "L1700-Bioactive-Compound-Library-I.sdf\n"
     ]
    }
   ],
   "source": [
    "import pprint\n",
    "from rdkit import rdBase\n",
    "from rdkit import Chem\n",
    "from rdkit.Chem.rdmolfiles import SmilesWriter\n",
    "print(rdBase.rdkitVersion)\n",
    "\n",
    "from os import listdir\n",
    "def list_files(directory, extension):\n",
    "    return (f for f in listdir(directory) if f.endswith('.' + extension))\n",
    "\n",
    "files = list_files('./', \"sdf\")\n",
    "mols = []\n",
    "for f in files:\n",
    "    print(f)\n",
    "    mols.extend([mol for mol in Chem.SDMolSupplier(f) if mol != None])\n"
   ]
  },
  {
   "cell_type": "code",
   "execution_count": 2,
   "metadata": {},
   "outputs": [],
   "source": [
    "# make writer object with a file name.\n",
    "writer = SmilesWriter('screen_library.txt')\n",
    "#SetProps method can set properties that will be written to files with SMILES.\n",
    "writer.SetProps(['Name'])\n",
    "#The way of writing molecules can perform common way.\n",
    "for mol in mols:\n",
    "    writer.write(mol)\n",
    "writer.close()"
   ]
  },
  {
   "cell_type": "code",
   "execution_count": null,
   "metadata": {},
   "outputs": [],
   "source": []
  }
 ],
 "metadata": {
  "kernelspec": {
   "display_name": "Python 3",
   "language": "python",
   "name": "python3"
  },
  "language_info": {
   "codemirror_mode": {
    "name": "ipython",
    "version": 3
   },
   "file_extension": ".py",
   "mimetype": "text/x-python",
   "name": "python",
   "nbconvert_exporter": "python",
   "pygments_lexer": "ipython3",
   "version": "3.7.2"
  }
 },
 "nbformat": 4,
 "nbformat_minor": 2
}
