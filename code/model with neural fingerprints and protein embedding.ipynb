{
 "cells": [
  {
   "cell_type": "code",
   "execution_count": 1,
   "metadata": {
    "_kg_hide-input": true
   },
   "outputs": [],
   "source": [
    "import os\n",
    "os.environ[\"CUDA_DEVICE_ORDER\"]=\"PCI_BUS_ID\"   \n",
    "os.environ[\"CUDA_VISIBLE_DEVICES\"]=\"0\"\n",
    "import torch\n",
    "import torch.autograd as autograd\n",
    "import torch.nn as nn\n",
    "import torch.nn.functional as F\n",
    "import torch.optim as optim\n",
    "import torch.utils.data as Data\n",
    "torch.manual_seed(8) # for reproduce\n",
    "\n",
    "import time\n",
    "import numpy as np\n",
    "import gc\n",
    "import sys\n",
    "sys.setrecursionlimit(50000)\n",
    "import pickle\n",
    "torch.backends.cudnn.benchmark = True\n",
    "torch.set_default_tensor_type('torch.cuda.FloatTensor')\n",
    "torch.nn.Module.dump_patches = True\n",
    "import copy\n",
    "import pandas as pd\n",
    "\n",
    "# then import my own modules\n",
    "from Featurization import save_smiles_dicts, get_smiles_dicts, get_smiles_array, moltosvg_highlight"
   ]
  },
  {
   "cell_type": "code",
   "execution_count": 3,
   "metadata": {},
   "outputs": [],
   "source": [
    "import torch\n",
    "import torch.autograd as autograd\n",
    "import torch.nn as nn\n",
    "import torch.nn.functional as F\n",
    "import torch.optim as optim\n",
    "\n",
    "class FusedEmbedding(nn.Module):\n",
    "\n",
    "    def __init__(self, radius, T, input_feature_dim, input_bond_dim,\\\n",
    "            fingerprint_dim, embedding_dim, output_units_num, p_dropout=0.0):\n",
    "        super(FusedEmbedding, self).__init__()\n",
    "        self.dropout = nn.Dropout(p=p_dropout)\n",
    "        self.atom_fc = nn.Linear(input_feature_dim, fingerprint_dim)        \n",
    "        self.neighbor_fc = nn.Linear(input_feature_dim+input_bond_dim, fingerprint_dim)\n",
    "        self.atom_GRU = nn.ModuleList([nn.GRUCell(fingerprint_dim, fingerprint_dim) for r in range(radius)])\n",
    "\n",
    "        self.fused_GRU = nn.GRUCell(embedding_dim, fingerprint_dim)\n",
    "        self.output = nn.Linear(fingerprint_dim, output_units_num) \n",
    "        self.radius = radius\n",
    "        self.T = T\n",
    "        self.embedding_dim = embedding_dim\n",
    "\n",
    "    def forward(self, atom_list, bond_list, atom_degree_list, bond_degree_list, atom_mask, seq_embeddings):\n",
    "        atom_mask = atom_mask.unsqueeze(2)\n",
    "        batch_size,mol_length,num_atom_feat = atom_list.size()\n",
    "        atom_feature = F.relu(self.atom_fc(atom_list)) * atom_mask\n",
    "\n",
    "        bond_neighbor = [bond_list[i][bond_degree_list[i]] for i in range(batch_size)]\n",
    "        bond_neighbor = torch.stack(bond_neighbor, dim=0)\n",
    "        atom_neighbor = [atom_list[i][atom_degree_list[i]] for i in range(batch_size)]\n",
    "        atom_neighbor = torch.stack(atom_neighbor, dim=0)\n",
    "        # then catenate them\n",
    "        neighbor_feature = torch.cat([atom_neighbor, bond_neighbor],dim=-1)\n",
    "#         print(neighbor_feature.shape, neighbor_feature[0][0])\n",
    "        max_features = torch.max(neighbor_feature,dim=-2)[0]\n",
    "        max_features = F.relu(self.neighbor_fc(max_features))\n",
    "#         print(max_features.shape, max_features[0])\n",
    "        batch_size, mol_length, fingerprint_dim = atom_feature.shape\n",
    "        atom_feature_reshape = atom_feature.view(batch_size*mol_length, fingerprint_dim)\n",
    "        max_features_reshape = max_features.view(batch_size*mol_length, fingerprint_dim)\n",
    "        atom_feature_GRU = self.atom_GRU[0](max_features_reshape, atom_feature_reshape)\n",
    "        atom_feature = atom_feature_GRU.view(batch_size, mol_length, fingerprint_dim) * atom_mask        \n",
    "\n",
    "        for d in range(self.radius-1):\n",
    "            neighbor_feature = [atom_feature[i][atom_degree_list[i]] for i in range(batch_size)]\n",
    "            # neighbor_feature is a list of 3D tensor, so we need to stack them into a 4D tensor first\n",
    "            neighbor_feature = torch.stack(neighbor_feature, dim=0)\n",
    "            # then max-pooling \n",
    "            max_features = torch.max(neighbor_feature,dim=-2)[0]\n",
    "\n",
    "            atom_feature_reshape = atom_feature.view(batch_size*mol_length, fingerprint_dim)\n",
    "            max_features_reshape = max_features.view(batch_size*mol_length, fingerprint_dim)\n",
    "            atom_feature_GRU = self.atom_GRU[d+1](max_features_reshape, atom_feature_reshape)\n",
    "            atom_feature = atom_feature_GRU.view(batch_size, mol_length, fingerprint_dim) * atom_mask\n",
    "        mol_feature = torch.sum(atom_feature,-2)            \n",
    "        fused_feature = mol_feature\n",
    "        for t in range(self.T):\n",
    "            fused_feature = self.fused_GRU(seq_embeddings, fused_feature)\n",
    "        fused_prediction = self.output(self.dropout(F.relu(fused_feature)))\n",
    "        return fused_prediction"
   ]
  },
  {
   "cell_type": "code",
   "execution_count": 4,
   "metadata": {
    "_kg_hide-input": false
   },
   "outputs": [],
   "source": [
    "from rdkit import Chem\n",
    "# from rdkit.Chem import AllChem\n",
    "from rdkit.Chem import QED\n",
    "%matplotlib inline\n",
    "from numpy.polynomial.polynomial import polyfit\n",
    "import matplotlib.pyplot as plt\n",
    "import matplotlib.cm as cm\n",
    "import matplotlib\n",
    "from IPython.display import SVG, display\n",
    "import seaborn as sns; sns.set(color_codes=True)\n",
    "import pandas as pd"
   ]
  },
  {
   "cell_type": "code",
   "execution_count": 5,
   "metadata": {},
   "outputs": [
    {
     "name": "stdout",
     "output_type": "stream",
     "text": [
      "number of all smiles:  2140\n",
      "number of successfully processed smiles:  2140\n"
     ]
    },
    {
     "data": {
      "image/png": "[encoded data removed]",
      "text/plain": [
       "<Figure size 360x216 with 1 Axes>"
      ]
     },
     "metadata": {},
     "output_type": "display_data"
    }
   ],
   "source": [
    "task_name = 'Multi-Targeting'\n",
    "tasks = ['activity']\n",
    "kinase_seq_embedding = pd.read_csv('../data/kinase_seq_embedding.csv')\n",
    "smiles_kinase_activity = pd.read_csv('../data/smiles_kinase_activity.csv')\n",
    "\n",
    "seq_embeddings_dict = {}\n",
    "for kinase in list(set(smiles_kinase_activity['kinase'].values)):\n",
    "    seq_embeddings_dict[kinase] = [float(x) for x in kinase_seq_embedding.loc[kinase_seq_embedding['kinase']==kinase].embedding.values[0]\\\n",
    "                                 .replace(\"[\", \"\").replace(\"]\", \"\").replace(\" \", \"\").split(',')]\n",
    "\n",
    "smiles_kinase_activity['embedding'] = [seq_embeddings_dict[kinase] for kinase in smiles_kinase_activity['kinase'].values]\n",
    "\n",
    "smilesList = list(set(smiles_kinase_activity.smiles.values))\n",
    "print(\"number of all smiles: \",len(smilesList))\n",
    "atom_num_dist = []\n",
    "remained_smiles = []\n",
    "canonical_smiles_list = []\n",
    "for smiles in smilesList:\n",
    "    try:        \n",
    "        mol = Chem.MolFromSmiles(smiles)\n",
    "        atom_num_dist.append(len(mol.GetAtoms()))\n",
    "        remained_smiles.append(smiles)\n",
    "        canonical_smiles_list.append(Chem.MolToSmiles(Chem.MolFromSmiles(smiles), isomericSmiles=True))\n",
    "    except:\n",
    "        print(smiles)\n",
    "        pass\n",
    "print(\"number of successfully processed smiles: \", len(remained_smiles))\n",
    "\n",
    "plt.figure(figsize=(5, 3))\n",
    "sns.set(font_scale=1.5)\n",
    "ax = sns.distplot(atom_num_dist, bins=28, kde=False)\n",
    "plt.tight_layout()\n",
    "plt.show()\n",
    "plt.close()"
   ]
  },
  {
   "cell_type": "code",
   "execution_count": 6,
   "metadata": {
    "_kg_hide-input": false
   },
   "outputs": [],
   "source": [
    "random_seed = 28\n",
    "start_time = str(time.ctime()).replace(':','-').replace(' ','_')\n",
    "start = time.time()\n",
    "\n",
    "batch_size = 500\n",
    "epochs = 100\n",
    "p_dropout = 0.18\n",
    "fingerprint_dim = 180\n",
    "\n",
    "radius = 5\n",
    "T = 3\n",
    "weight_decay = 4.5 # also known as l2_regularization_lambda\n",
    "learning_rate = 2.8\n",
    "embedding_dim = 100\n",
    "output_units_num = 1 # for classification model"
   ]
  },
  {
   "cell_type": "code",
   "execution_count": 7,
   "metadata": {},
   "outputs": [
    {
     "data": {
      "text/html": [
       "<div>\n",
       "<style scoped>\n",
       "    .dataframe tbody tr th:only-of-type {\n",
       "        vertical-align: middle;\n",
       "    }\n",
       "\n",
       "    .dataframe tbody tr th {\n",
       "        vertical-align: top;\n",
       "    }\n",
       "\n",
       "    .dataframe thead th {\n",
       "        text-align: right;\n",
       "    }\n",
       "</style>\n",
       "<table border=\"1\" class=\"dataframe\">\n",
       "  <thead>\n",
       "    <tr style=\"text-align: right;\">\n",
       "      <th></th>\n",
       "      <th>Task</th>\n",
       "      <th>Mean</th>\n",
       "      <th>Standard deviation</th>\n",
       "      <th>Mean absolute deviation</th>\n",
       "      <th>ratio</th>\n",
       "    </tr>\n",
       "  </thead>\n",
       "  <tbody>\n",
       "    <tr>\n",
       "      <th>0</th>\n",
       "      <td>activity</td>\n",
       "      <td>5.22636</td>\n",
       "      <td>0.79216</td>\n",
       "      <td>0.572409</td>\n",
       "      <td>1.383907</td>\n",
       "    </tr>\n",
       "  </tbody>\n",
       "</table>\n",
       "</div>"
      ],
      "text/plain": [
       "       Task     Mean  Standard deviation  Mean absolute deviation     ratio\n",
       "0  activity  5.22636             0.79216                 0.572409  1.383907"
      ]
     },
     "execution_count": 7,
     "metadata": {},
     "output_type": "execute_result"
    }
   ],
   "source": [
    "test_df = smiles_kinase_activity.sample(frac=1/10, random_state=random_seed) # test set\n",
    "training_data = smiles_kinase_activity.drop(test_df.index) # training data\n",
    "\n",
    "# get the stats of the seen dataset (the training data)\n",
    "# which will be used to noramlize the dataset. \n",
    "columns = ['Task','Mean','Standard deviation', 'Mean absolute deviation','ratio']\n",
    "mean_list=[]\n",
    "std_list=[]\n",
    "mad_list=[]\n",
    "ratio_list=[]\n",
    "for task in tasks:\n",
    "    mean = training_data[task].mean()\n",
    "    mean_list.append(mean)\n",
    "    std = training_data[task].std()\n",
    "    std_list.append(std)\n",
    "    mad = training_data[task].mad()\n",
    "    mad_list.append(mad)\n",
    "    ratio_list.append(std/mad)\n",
    "    training_data[task+'_normalized'] = (training_data[task]- mean)/std\n",
    "    test_df[task+'_normalized'] = (test_df[task]- mean)/std\n",
    "\n",
    "# training data is further divided into validation set and train set\n",
    "valid_df = training_data.sample(frac=1/9, random_state=random_seed) # validation set\n",
    "train_df = training_data.drop(valid_df.index) # train set\n",
    "train_df = train_df.reset_index(drop=True)\n",
    "valid_df = valid_df.reset_index(drop=True)\n",
    "test_df = test_df.reset_index(drop=True)\n",
    "\n",
    "list_of_tuples = list(zip(tasks, mean_list, std_list, mad_list, ratio_list))\n",
    "stats  = pd.DataFrame(list_of_tuples, columns = columns)\n",
    "stats\n"
   ]
  },
  {
   "cell_type": "code",
   "execution_count": 8,
   "metadata": {},
   "outputs": [
    {
     "data": {
      "text/html": [
       "<div>\n",
       "<style scoped>\n",
       "    .dataframe tbody tr th:only-of-type {\n",
       "        vertical-align: middle;\n",
       "    }\n",
       "\n",
       "    .dataframe tbody tr th {\n",
       "        vertical-align: top;\n",
       "    }\n",
       "\n",
       "    .dataframe thead th {\n",
       "        text-align: right;\n",
       "    }\n",
       "</style>\n",
       "<table border=\"1\" class=\"dataframe\">\n",
       "  <thead>\n",
       "    <tr style=\"text-align: right;\">\n",
       "      <th></th>\n",
       "      <th>Task</th>\n",
       "      <th>Mean</th>\n",
       "      <th>Standard deviation</th>\n",
       "      <th>Mean absolute deviation</th>\n",
       "      <th>ratio</th>\n",
       "    </tr>\n",
       "  </thead>\n",
       "  <tbody>\n",
       "    <tr>\n",
       "      <th>0</th>\n",
       "      <td>activity</td>\n",
       "      <td>5.226356</td>\n",
       "      <td>0.791763</td>\n",
       "      <td>0.572286</td>\n",
       "      <td>1.383509</td>\n",
       "    </tr>\n",
       "  </tbody>\n",
       "</table>\n",
       "</div>"
      ],
      "text/plain": [
       "       Task      Mean  Standard deviation  Mean absolute deviation     ratio\n",
       "0  activity  5.226356            0.791763                 0.572286  1.383509"
      ]
     },
     "execution_count": 8,
     "metadata": {},
     "output_type": "execute_result"
    }
   ],
   "source": [
    "columns = ['Task','Mean','Standard deviation', 'Mean absolute deviation','ratio']\n",
    "mean_list=[]\n",
    "std_list=[]\n",
    "mad_list=[]\n",
    "ratio_list=[]\n",
    "for task in tasks:\n",
    "    mean = train_df[task].mean()\n",
    "    mean_list.append(mean)\n",
    "    std = train_df[task].std()\n",
    "    std_list.append(std)\n",
    "    mad = train_df[task].mad()\n",
    "    mad_list.append(mad)\n",
    "    ratio_list.append(std/mad)\n",
    "list_of_tuples = list(zip(tasks, mean_list, std_list, mad_list, ratio_list))\n",
    "stats  = pd.DataFrame(list_of_tuples, columns = columns)\n",
    "stats"
   ]
  },
  {
   "cell_type": "code",
   "execution_count": 9,
   "metadata": {},
   "outputs": [
    {
     "data": {
      "text/html": [
       "<div>\n",
       "<style scoped>\n",
       "    .dataframe tbody tr th:only-of-type {\n",
       "        vertical-align: middle;\n",
       "    }\n",
       "\n",
       "    .dataframe tbody tr th {\n",
       "        vertical-align: top;\n",
       "    }\n",
       "\n",
       "    .dataframe thead th {\n",
       "        text-align: right;\n",
       "    }\n",
       "</style>\n",
       "<table border=\"1\" class=\"dataframe\">\n",
       "  <thead>\n",
       "    <tr style=\"text-align: right;\">\n",
       "      <th></th>\n",
       "      <th>Task</th>\n",
       "      <th>Mean</th>\n",
       "      <th>Standard deviation</th>\n",
       "      <th>Mean absolute deviation</th>\n",
       "      <th>ratio</th>\n",
       "    </tr>\n",
       "  </thead>\n",
       "  <tbody>\n",
       "    <tr>\n",
       "      <th>0</th>\n",
       "      <td>activity</td>\n",
       "      <td>5.22639</td>\n",
       "      <td>0.795342</td>\n",
       "      <td>0.573387</td>\n",
       "      <td>1.387095</td>\n",
       "    </tr>\n",
       "  </tbody>\n",
       "</table>\n",
       "</div>"
      ],
      "text/plain": [
       "       Task     Mean  Standard deviation  Mean absolute deviation     ratio\n",
       "0  activity  5.22639            0.795342                 0.573387  1.387095"
      ]
     },
     "execution_count": 9,
     "metadata": {},
     "output_type": "execute_result"
    }
   ],
   "source": [
    "columns = ['Task','Mean','Standard deviation', 'Mean absolute deviation','ratio']\n",
    "mean_list=[]\n",
    "std_list=[]\n",
    "mad_list=[]\n",
    "ratio_list=[]\n",
    "for task in tasks:\n",
    "    mean = valid_df[task].mean()\n",
    "    mean_list.append(mean)\n",
    "    std = valid_df[task].std()\n",
    "    std_list.append(std)\n",
    "    mad = valid_df[task].mad()\n",
    "    mad_list.append(mad)\n",
    "    ratio_list.append(std/mad)\n",
    "list_of_tuples = list(zip(tasks, mean_list, std_list, mad_list, ratio_list))\n",
    "stats  = pd.DataFrame(list_of_tuples, columns = columns)\n",
    "stats"
   ]
  },
  {
   "cell_type": "code",
   "execution_count": 10,
   "metadata": {},
   "outputs": [
    {
     "name": "stdout",
     "output_type": "stream",
     "text": [
      "0.6067693844481934\n",
      "0.7473647274436619\n"
     ]
    }
   ],
   "source": [
    "# predict all values as mean of each ligand will get a MSE of 0.3683609544565635\n",
    "smiles_variance = smiles_kinase_activity.groupby('smiles')['activity'].var(ddof=0) * smiles_kinase_activity.groupby('smiles')['smiles'].value_counts()\n",
    "print(np.sqrt(smiles_variance.sum()/smiles_kinase_activity.shape[0]))\n",
    "\n",
    "# predict all values as mean of each protein kinase will get a MSE of 0.5583972950594606\n",
    "kinase_variance = smiles_kinase_activity.groupby('kinase')['activity'].var(ddof=0) * smiles_kinase_activity.groupby('kinase')['kinase'].value_counts()\n",
    "print(np.sqrt(kinase_variance.sum()/smiles_kinase_activity.shape[0]))"
   ]
  },
  {
   "cell_type": "code",
   "execution_count": 11,
   "metadata": {},
   "outputs": [
    {
     "name": "stdout",
     "output_type": "stream",
     "text": [
      "0.6055113264956725\n",
      "0.7465290722867107\n"
     ]
    }
   ],
   "source": [
    "# predict all values as mean of each ligand will get a MSE of 0.3683609544565635\n",
    "smiles_variance = training_data.groupby('smiles')['activity'].var(ddof=0) * training_data.groupby('smiles')['smiles'].value_counts()\n",
    "print(np.sqrt(smiles_variance.sum()/training_data.shape[0]))\n",
    "\n",
    "# predict all values as mean of each protein kinase will get a MSE of 0.5583972950594606\n",
    "kinase_variance = training_data.groupby('kinase')['activity'].var(ddof=0) * training_data.groupby('kinase')['kinase'].value_counts()\n",
    "print(np.sqrt(kinase_variance.sum()/training_data.shape[0]))"
   ]
  },
  {
   "cell_type": "code",
   "execution_count": 12,
   "metadata": {},
   "outputs": [],
   "source": [
    "feature_dicts = get_smiles_dicts(smilesList)\n",
    "x_atom, x_bonds, x_atom_index, x_bond_index, x_mask, smiles_to_rdkit_list = get_smiles_array([smilesList[0]],feature_dicts)\n",
    "num_atom_features = x_atom.shape[-1]\n",
    "num_bond_features = x_bonds.shape[-1]\n",
    "# print(num_atom_features,num_bond_features)\n",
    "# tensorboard = SummaryWriter(log_dir=\"runs/\"+start_time+\"_\"+str(fingerprint_dim)+\"_\"+str(p_dropout))\n",
    "# OUTPUT = open('performance/kinase_peformance_'+start_time+'.csv', 'a')\n",
    "\n",
    "# loss_weight = torch.Tensor([0.3,2,1]) # proportional to number of samples in each class, here [31827,5830,10114]\n",
    "loss_function = nn.MSELoss()\n",
    "model = FusedEmbedding(radius, T, num_atom_features, num_bond_features,\\\n",
    "            fingerprint_dim, embedding_dim, output_units_num, p_dropout)\n",
    "model.cuda()\n",
    "\n",
    "optimizer = optim.Adam(model.parameters(), 10**-learning_rate, weight_decay=10**-weight_decay)\n"
   ]
  },
  {
   "cell_type": "code",
   "execution_count": 13,
   "metadata": {},
   "outputs": [
    {
     "name": "stdout",
     "output_type": "stream",
     "text": [
      "1146061\n",
      "atom_fc.weight torch.Size([180, 39])\n",
      "atom_fc.bias torch.Size([180])\n",
      "neighbor_fc.weight torch.Size([180, 49])\n",
      "neighbor_fc.bias torch.Size([180])\n",
      "atom_GRU.0.weight_ih torch.Size([540, 180])\n",
      "atom_GRU.0.weight_hh torch.Size([540, 180])\n",
      "atom_GRU.0.bias_ih torch.Size([540])\n",
      "atom_GRU.0.bias_hh torch.Size([540])\n",
      "atom_GRU.1.weight_ih torch.Size([540, 180])\n",
      "atom_GRU.1.weight_hh torch.Size([540, 180])\n",
      "atom_GRU.1.bias_ih torch.Size([540])\n",
      "atom_GRU.1.bias_hh torch.Size([540])\n",
      "atom_GRU.2.weight_ih torch.Size([540, 180])\n",
      "atom_GRU.2.weight_hh torch.Size([540, 180])\n",
      "atom_GRU.2.bias_ih torch.Size([540])\n",
      "atom_GRU.2.bias_hh torch.Size([540])\n",
      "atom_GRU.3.weight_ih torch.Size([540, 180])\n",
      "atom_GRU.3.weight_hh torch.Size([540, 180])\n",
      "atom_GRU.3.bias_ih torch.Size([540])\n",
      "atom_GRU.3.bias_hh torch.Size([540])\n",
      "atom_GRU.4.weight_ih torch.Size([540, 180])\n",
      "atom_GRU.4.weight_hh torch.Size([540, 180])\n",
      "atom_GRU.4.bias_ih torch.Size([540])\n",
      "atom_GRU.4.bias_hh torch.Size([540])\n",
      "fused_GRU.weight_ih torch.Size([540, 100])\n",
      "fused_GRU.weight_hh torch.Size([540, 180])\n",
      "fused_GRU.bias_ih torch.Size([540])\n",
      "fused_GRU.bias_hh torch.Size([540])\n",
      "output.weight torch.Size([1, 180])\n",
      "output.bias torch.Size([1])\n"
     ]
    }
   ],
   "source": [
    "model_parameters = filter(lambda p: p.requires_grad, model.parameters())\n",
    "for p in model.parameters():\n",
    "    if p.dim() > 1:\n",
    "        nn.init.xavier_uniform_(p)\n",
    "params = sum([np.prod(p.size()) for p in model_parameters])\n",
    "print(params)\n",
    "for name, param in model.named_parameters():\n",
    "    if param.requires_grad:\n",
    "        print(name, param.data.shape)\n",
    "        "
   ]
  },
  {
   "cell_type": "code",
   "execution_count": 14,
   "metadata": {},
   "outputs": [],
   "source": [
    "def train(model, dataset, optimizer, loss_function):\n",
    "    model.train()\n",
    "    np.random.seed(epoch)\n",
    "    valList = np.arange(0,dataset.shape[0])\n",
    "    #shuffle them\n",
    "    np.random.shuffle(valList)\n",
    "    batch_list = []\n",
    "    for i in range(0, dataset.shape[0], batch_size):\n",
    "        batch = valList[i:i+batch_size]\n",
    "        batch_list.append(batch)   \n",
    "    for counter, train_batch in enumerate(batch_list):\n",
    "        batch_df = dataset.loc[train_batch,:]\n",
    "        smiles_list = batch_df.smiles.values\n",
    "        y_val = batch_df['activity_normalized'].values\n",
    "        seq_embeddings = list(batch_df.embedding.values)\n",
    "        x_atom, x_bonds, x_atom_index, x_bond_index, x_mask, smiles_to_rdkit_list = get_smiles_array(smiles_list,feature_dicts)\n",
    "        mol_prediction = model(torch.Tensor(x_atom),torch.Tensor(x_bonds),torch.cuda.LongTensor(x_atom_index),\\\n",
    "                                                 torch.cuda.LongTensor(x_bond_index),torch.Tensor(x_mask),torch.Tensor(seq_embeddings))\n",
    "#         print(torch.Tensor(x_atom).size(),torch.Tensor(x_bonds).size(),torch.cuda.LongTensor(x_atom_index).size(),torch.cuda.LongTensor(x_bond_index).size(),torch.Tensor(x_mask).size())\n",
    "#         print(mol_prediction)\n",
    "        model.zero_grad()\n",
    "        # Compute your loss function. (Again, Torch wants the target wrapped in a variable)\n",
    "        loss = loss_function(mol_prediction, torch.Tensor(y_val).view(-1,1))\n",
    "        # Do the backward pass and update the gradient\n",
    "        loss.backward()\n",
    "        optimizer.step()\n",
    "        \n",
    "def eval(model, dataset):\n",
    "    model.eval()\n",
    "    eval_MAE_list = []\n",
    "    eval_MSE_list = []\n",
    "    valList = np.arange(0,dataset.shape[0])\n",
    "    batch_list = []\n",
    "    for i in range(0, dataset.shape[0], batch_size):\n",
    "        batch = valList[i:i+batch_size]\n",
    "        batch_list.append(batch)   \n",
    "    for counter, train_batch in enumerate(batch_list):\n",
    "        batch_df = dataset.loc[train_batch,:]\n",
    "        smiles_list = batch_df.smiles.values\n",
    "        y_val = batch_df['activity_normalized'].values\n",
    "        seq_embeddings = list(batch_df.embedding.values)\n",
    "        x_atom, x_bonds, x_atom_index, x_bond_index, x_mask, smiles_to_rdkit_list = get_smiles_array(smiles_list,feature_dicts)\n",
    "        mol_prediction = model(torch.Tensor(x_atom),torch.Tensor(x_bonds),torch.cuda.LongTensor(x_atom_index),\\\n",
    "                                                 torch.cuda.LongTensor(x_bond_index),torch.Tensor(x_mask),torch.Tensor(seq_embeddings))\n",
    "\n",
    "        MAE = F.l1_loss(mol_prediction, torch.Tensor(y_val).view(-1,1), reduction='none')\n",
    "        MSE = F.mse_loss(mol_prediction, torch.Tensor(y_val).view(-1,1), reduction='none')\n",
    "#         print(x_mask[:2],atoms_prediction.shape, mol_prediction,MSE)\n",
    "        \n",
    "        eval_MAE_list.extend(MAE.data.squeeze().cpu().numpy())\n",
    "        eval_MSE_list.extend(MSE.data.squeeze().cpu().numpy())\n",
    "    eval_MAE_nomalized = np.array(eval_MAE_list).mean()\n",
    "    eval_MSE_nomalized = np.array(eval_MSE_list).mean()\n",
    "    eval_MAE = eval_MAE_nomalized * std_list[0]\n",
    "    eval_MSE = eval_MSE_nomalized * std_list[0] * std_list[0]\n",
    "    return eval_MAE, eval_MSE"
   ]
  },
  {
   "cell_type": "code",
   "execution_count": 15,
   "metadata": {
    "scrolled": true
   },
   "outputs": [
    {
     "name": "stdout",
     "output_type": "stream",
     "text": [
      "0 0.8021694928898062 0.8059869407951734\n",
      "CPU times: user 58min 11s, sys: 1min 51s, total: 1h 3s\n",
      "Wall time: 12min 36s\n",
      "1 0.6678551184403748 0.6784109301910819\n",
      "CPU times: user 57min 54s, sys: 1min 50s, total: 59min 45s\n",
      "Wall time: 12min 31s\n",
      "2 0.6104364395323512 0.6234257231714638\n",
      "CPU times: user 56min 40s, sys: 1min 51s, total: 58min 31s\n",
      "Wall time: 12min 27s\n",
      "3 0.5660952338160951 0.5800047198285717\n",
      "CPU times: user 58min 5s, sys: 1min 52s, total: 59min 57s\n",
      "Wall time: 12min 33s\n",
      "4 0.5467695113838424 0.5627963947578245\n",
      "CPU times: user 57min 9s, sys: 1min 50s, total: 58min 59s\n",
      "Wall time: 12min 28s\n",
      "5 0.5260580884306879 0.5452462644640751\n",
      "CPU times: user 57min 31s, sys: 1min 49s, total: 59min 21s\n",
      "Wall time: 12min 29s\n",
      "6 0.5088802528178786 0.531281510568457\n",
      "CPU times: user 57min 53s, sys: 1min 50s, total: 59min 44s\n",
      "Wall time: 12min 32s\n",
      "7 0.5187690996716332 0.541581450755525\n",
      "CPU times: user 57min 5s, sys: 1min 52s, total: 58min 57s\n",
      "Wall time: 12min 29s\n",
      "8 0.48933929393779607 0.5142345157799963\n",
      "CPU times: user 57min 35s, sys: 1min 51s, total: 59min 26s\n",
      "Wall time: 12min 31s\n",
      "9 0.48540289474683623 0.5135985779974732\n",
      "CPU times: user 57min 46s, sys: 1min 50s, total: 59min 36s\n",
      "Wall time: 12min 33s\n",
      "10 0.4714550231367926 0.5050881044572119\n",
      "CPU times: user 57min 59s, sys: 1min 51s, total: 59min 51s\n",
      "Wall time: 12min 34s\n",
      "11 0.4573150305066282 0.49313967772292544\n",
      "CPU times: user 57min 33s, sys: 1min 51s, total: 59min 25s\n",
      "Wall time: 12min 31s\n",
      "12 0.45722210372550165 0.4944961125678399\n",
      "CPU times: user 57min 11s, sys: 1min 52s, total: 59min 3s\n",
      "Wall time: 12min 30s\n",
      "13 0.4431990835622661 0.4797576383989404\n",
      "CPU times: user 58min 3s, sys: 1min 52s, total: 59min 56s\n",
      "Wall time: 12min 33s\n",
      "14 0.4394985252690663 0.4775764092195697\n",
      "CPU times: user 56min 45s, sys: 1min 51s, total: 58min 36s\n",
      "Wall time: 12min 28s\n",
      "15 0.44312210748399405 0.4805509364268724\n",
      "CPU times: user 57min 21s, sys: 1min 50s, total: 59min 11s\n",
      "Wall time: 12min 32s\n",
      "16 0.4409825263446129 0.4834641956384472\n",
      "CPU times: user 58min 25s, sys: 1min 50s, total: 1h 16s\n",
      "Wall time: 12min 33s\n",
      "17 0.42269839477101934 0.4652670631945541\n",
      "CPU times: user 57min 22s, sys: 1min 50s, total: 59min 13s\n",
      "Wall time: 12min 30s\n",
      "18 0.42397170382935456 0.4685335030264968\n",
      "CPU times: user 56min 37s, sys: 1min 51s, total: 58min 28s\n",
      "Wall time: 12min 28s\n",
      "19 0.42006162368068345 0.4674598355065854\n",
      "CPU times: user 58min 3s, sys: 1min 51s, total: 59min 54s\n",
      "Wall time: 12min 32s\n",
      "20 0.4177613690131225 0.46568867234131633\n",
      "CPU times: user 57min 47s, sys: 1min 50s, total: 59min 37s\n",
      "Wall time: 12min 33s\n",
      "21 0.40938191547913366 0.4634735285061947\n",
      "CPU times: user 58min 1s, sys: 1min 51s, total: 59min 53s\n",
      "Wall time: 12min 33s\n",
      "22 0.40799433371940075 0.4608141378695506\n",
      "CPU times: user 57min 45s, sys: 1min 52s, total: 59min 37s\n",
      "Wall time: 12min 32s\n",
      "23 0.41103394168596535 0.46275545560022335\n",
      "CPU times: user 57min 49s, sys: 1min 51s, total: 59min 41s\n",
      "Wall time: 12min 31s\n",
      "24 0.4041728230542923 0.45773183495317615\n",
      "CPU times: user 57min 56s, sys: 1min 50s, total: 59min 47s\n",
      "Wall time: 12min 32s\n",
      "25 0.3931753095235968 0.45235516739603837\n",
      "CPU times: user 58min 12s, sys: 1min 51s, total: 1h 4s\n",
      "Wall time: 12min 34s\n",
      "26 0.39812530603517643 0.45229590123148045\n",
      "CPU times: user 57min 28s, sys: 1min 52s, total: 59min 20s\n",
      "Wall time: 12min 30s\n",
      "27 0.39469124148110807 0.45673916992583985\n",
      "CPU times: user 57min 32s, sys: 1min 50s, total: 59min 23s\n",
      "Wall time: 12min 30s\n",
      "28 0.3956420331297322 0.4549679771526311\n",
      "CPU times: user 58min 11s, sys: 1min 50s, total: 1h 1s\n",
      "Wall time: 12min 35s\n",
      "29 0.38947140363576654 0.45161881141351146\n",
      "CPU times: user 58min 10s, sys: 1min 51s, total: 1h 1s\n",
      "Wall time: 12min 35s\n",
      "30 0.37957322341575084 0.4477751200759303\n",
      "CPU times: user 57min 51s, sys: 1min 50s, total: 59min 41s\n",
      "Wall time: 12min 33s\n",
      "31 0.37942615752069575 0.4486345778464718\n",
      "CPU times: user 57min 54s, sys: 1min 50s, total: 59min 44s\n",
      "Wall time: 12min 36s\n",
      "32 0.39081790656414805 0.4533249540560666\n",
      "CPU times: user 57min 33s, sys: 1min 50s, total: 59min 24s\n",
      "Wall time: 12min 31s\n",
      "33 0.3837702489889515 0.4533478050689859\n",
      "CPU times: user 57min 39s, sys: 1min 51s, total: 59min 31s\n",
      "Wall time: 12min 31s\n",
      "34 0.3758753896007526 0.4463422580131042\n",
      "CPU times: user 58min 13s, sys: 1min 52s, total: 1h 5s\n",
      "Wall time: 12min 36s\n",
      "35 0.36568761157631074 0.43748680493224923\n",
      "CPU times: user 57min 33s, sys: 1min 51s, total: 59min 25s\n",
      "Wall time: 12min 29s\n",
      "36 0.37530387747518745 0.4446502786239181\n",
      "CPU times: user 57min 19s, sys: 1min 50s, total: 59min 10s\n",
      "Wall time: 12min 30s\n",
      "37 0.37412187965464627 0.44456679020197865\n",
      "CPU times: user 57min 50s, sys: 1min 51s, total: 59min 42s\n",
      "Wall time: 12min 34s\n",
      "38 0.36984570118901555 0.44251527455150313\n",
      "CPU times: user 57min 54s, sys: 1min 51s, total: 59min 46s\n",
      "Wall time: 12min 33s\n",
      "39 0.3683235309556589 0.44310234551034033\n",
      "CPU times: user 57min 57s, sys: 1min 53s, total: 59min 50s\n",
      "Wall time: 12min 34s\n",
      "40 0.37067862590406037 0.44307824279296815\n",
      "CPU times: user 57min 46s, sys: 1min 49s, total: 59min 36s\n",
      "Wall time: 12min 33s\n",
      "41 0.3731852022787395 0.4458811748568902\n",
      "CPU times: user 57min 44s, sys: 1min 50s, total: 59min 35s\n",
      "Wall time: 12min 32s\n",
      "42 0.3634999932914238 0.44065632945112804\n",
      "CPU times: user 57min 55s, sys: 1min 51s, total: 59min 46s\n",
      "Wall time: 12min 33s\n",
      "43 0.36449025651820877 0.4416584428826503\n",
      "CPU times: user 58min 3s, sys: 1min 50s, total: 59min 54s\n",
      "Wall time: 12min 35s\n",
      "44 0.36018554216469134 0.43693330851620005\n",
      "CPU times: user 57min 46s, sys: 1min 52s, total: 59min 39s\n",
      "Wall time: 12min 31s\n",
      "45 0.364944348391753 0.44163509375817295\n",
      "CPU times: user 57min 12s, sys: 1min 50s, total: 59min 3s\n",
      "Wall time: 12min 31s\n",
      "46 0.3556718838690394 0.4352956866258132\n",
      "CPU times: user 58min 31s, sys: 1min 51s, total: 1h 22s\n",
      "Wall time: 12min 38s\n",
      "47 0.35662781207853045 0.43902495152731263\n",
      "CPU times: user 57min 32s, sys: 1min 50s, total: 59min 23s\n",
      "Wall time: 12min 30s\n",
      "48 0.35478415129206786 0.43618152848871156\n",
      "CPU times: user 57min 20s, sys: 1min 50s, total: 59min 11s\n",
      "Wall time: 12min 29s\n",
      "49 0.3526549933926929 0.4368425625034786\n",
      "CPU times: user 58min 33s, sys: 1min 52s, total: 1h 26s\n",
      "Wall time: 12min 36s\n",
      "50 0.34751479085783576 0.433719931791791\n",
      "CPU times: user 57min 57s, sys: 1min 52s, total: 59min 49s\n",
      "Wall time: 12min 31s\n",
      "51 0.34523979818551165 0.43503749090093796\n",
      "CPU times: user 57min 13s, sys: 1min 52s, total: 59min 6s\n",
      "Wall time: 12min 27s\n",
      "52 0.353516103928633 0.43449239409132606\n",
      "CPU times: user 57min 50s, sys: 1min 51s, total: 59min 42s\n",
      "Wall time: 12min 31s\n",
      "53 0.34332341862567456 0.43197382448149374\n",
      "CPU times: user 56min 43s, sys: 1min 53s, total: 58min 36s\n",
      "Wall time: 12min 26s\n",
      "54 0.3488744650716681 0.4320318857597437\n",
      "CPU times: user 56min 40s, sys: 1min 51s, total: 58min 31s\n",
      "Wall time: 12min 24s\n",
      "55 0.34488399563092453 0.4316525026246599\n",
      "CPU times: user 57min 59s, sys: 1min 51s, total: 59min 50s\n",
      "Wall time: 12min 32s\n",
      "56 0.35353215506428426 0.4361941055097885\n",
      "CPU times: user 57min 27s, sys: 1min 50s, total: 59min 18s\n",
      "Wall time: 12min 27s\n",
      "57 0.3455026788484376 0.4359256954028\n",
      "CPU times: user 57min 21s, sys: 1min 52s, total: 59min 13s\n",
      "Wall time: 12min 27s\n",
      "58 0.3409806334306027 0.4309214340403697\n",
      "CPU times: user 57min 47s, sys: 1min 52s, total: 59min 39s\n",
      "Wall time: 12min 31s\n",
      "59 0.3456952227920221 0.4364607308196516\n",
      "CPU times: user 57min 5s, sys: 1min 51s, total: 58min 56s\n",
      "Wall time: 12min 27s\n"
     ]
    }
   ],
   "source": [
    "for epoch in range(60):\n",
    "    train_MAE, train_MSE = eval(model, train_df)\n",
    "    valid_MAE, valid_MSE = eval(model, valid_df)\n",
    "    print(epoch, np.sqrt(train_MSE), np.sqrt(valid_MSE))\n",
    "    \n",
    "    %time train(model, train_df, optimizer, loss_function)\n"
   ]
  },
  {
   "cell_type": "code",
   "execution_count": 19,
   "metadata": {},
   "outputs": [
    {
     "name": "stdout",
     "output_type": "stream",
     "text": [
      "60 0.33763509912652695 0.43280999607169823\n"
     ]
    },
    {
     "name": "stderr",
     "output_type": "stream",
     "text": [
      "/home/pytorch/anaconda3/lib/python3.7/site-packages/torch/serialization.py:256: UserWarning: Couldn't retrieve source code for container of type FusedEmbedding. It won't be checked for correctness upon loading.\n",
      "  \"type \" + obj.__name__ + \". It won't be checked \"\n"
     ]
    },
    {
     "name": "stdout",
     "output_type": "stream",
     "text": [
      "CPU times: user 57min 35s, sys: 1min 51s, total: 59min 27s\n",
      "Wall time: 12min 31s\n",
      "61 0.3349896747318845 0.4272050541308516\n"
     ]
    },
    {
     "name": "stderr",
     "output_type": "stream",
     "text": [
      "/home/pytorch/anaconda3/lib/python3.7/site-packages/torch/serialization.py:256: UserWarning: Couldn't retrieve source code for container of type FusedEmbedding. It won't be checked for correctness upon loading.\n",
      "  \"type \" + obj.__name__ + \". It won't be checked \"\n"
     ]
    },
    {
     "name": "stdout",
     "output_type": "stream",
     "text": [
      "CPU times: user 57min 28s, sys: 1min 51s, total: 59min 20s\n",
      "Wall time: 12min 27s\n",
      "62 0.34286209438032184 0.43567847445783014\n",
      "CPU times: user 56min 44s, sys: 1min 52s, total: 58min 36s\n",
      "Wall time: 12min 27s\n",
      "63 0.33760042347375835 0.4317063931128937\n"
     ]
    },
    {
     "name": "stderr",
     "output_type": "stream",
     "text": [
      "/home/pytorch/anaconda3/lib/python3.7/site-packages/torch/serialization.py:256: UserWarning: Couldn't retrieve source code for container of type FusedEmbedding. It won't be checked for correctness upon loading.\n",
      "  \"type \" + obj.__name__ + \". It won't be checked \"\n"
     ]
    },
    {
     "name": "stdout",
     "output_type": "stream",
     "text": [
      "CPU times: user 57min 25s, sys: 1min 52s, total: 59min 18s\n",
      "Wall time: 12min 26s\n",
      "64 0.3585391602356179 0.44227028779494465\n",
      "CPU times: user 56min 56s, sys: 1min 52s, total: 58min 49s\n",
      "Wall time: 12min 28s\n",
      "65 0.3333978266219277 0.4307713515630108\n"
     ]
    },
    {
     "name": "stderr",
     "output_type": "stream",
     "text": [
      "/home/pytorch/anaconda3/lib/python3.7/site-packages/torch/serialization.py:256: UserWarning: Couldn't retrieve source code for container of type FusedEmbedding. It won't be checked for correctness upon loading.\n",
      "  \"type \" + obj.__name__ + \". It won't be checked \"\n"
     ]
    },
    {
     "name": "stdout",
     "output_type": "stream",
     "text": [
      "CPU times: user 57min 17s, sys: 1min 53s, total: 59min 10s\n",
      "Wall time: 12min 27s\n",
      "66 0.34338782252792044 0.4366474357298107\n",
      "CPU times: user 56min 42s, sys: 1min 52s, total: 58min 34s\n",
      "Wall time: 12min 27s\n",
      "67 0.3311737383178118 0.4259408134517279\n"
     ]
    },
    {
     "name": "stderr",
     "output_type": "stream",
     "text": [
      "/home/pytorch/anaconda3/lib/python3.7/site-packages/torch/serialization.py:256: UserWarning: Couldn't retrieve source code for container of type FusedEmbedding. It won't be checked for correctness upon loading.\n",
      "  \"type \" + obj.__name__ + \". It won't be checked \"\n"
     ]
    },
    {
     "name": "stdout",
     "output_type": "stream",
     "text": [
      "CPU times: user 57min 35s, sys: 1min 51s, total: 59min 26s\n",
      "Wall time: 12min 30s\n",
      "68 0.32982414475420097 0.42702675870645146\n"
     ]
    },
    {
     "name": "stderr",
     "output_type": "stream",
     "text": [
      "/home/pytorch/anaconda3/lib/python3.7/site-packages/torch/serialization.py:256: UserWarning: Couldn't retrieve source code for container of type FusedEmbedding. It won't be checked for correctness upon loading.\n",
      "  \"type \" + obj.__name__ + \". It won't be checked \"\n"
     ]
    },
    {
     "name": "stdout",
     "output_type": "stream",
     "text": [
      "CPU times: user 56min 40s, sys: 1min 53s, total: 58min 33s\n",
      "Wall time: 12min 25s\n",
      "69 0.33113279253676997 0.42819636032092356\n"
     ]
    },
    {
     "name": "stderr",
     "output_type": "stream",
     "text": [
      "/home/pytorch/anaconda3/lib/python3.7/site-packages/torch/serialization.py:256: UserWarning: Couldn't retrieve source code for container of type FusedEmbedding. It won't be checked for correctness upon loading.\n",
      "  \"type \" + obj.__name__ + \". It won't be checked \"\n"
     ]
    },
    {
     "name": "stdout",
     "output_type": "stream",
     "text": [
      "CPU times: user 56min 53s, sys: 1min 53s, total: 58min 46s\n",
      "Wall time: 12min 26s\n",
      "70 0.33373568250231467 0.43046299336077054\n"
     ]
    },
    {
     "name": "stderr",
     "output_type": "stream",
     "text": [
      "/home/pytorch/anaconda3/lib/python3.7/site-packages/torch/serialization.py:256: UserWarning: Couldn't retrieve source code for container of type FusedEmbedding. It won't be checked for correctness upon loading.\n",
      "  \"type \" + obj.__name__ + \". It won't be checked \"\n"
     ]
    },
    {
     "name": "stdout",
     "output_type": "stream",
     "text": [
      "CPU times: user 58min 11s, sys: 1min 52s, total: 1h 3s\n",
      "Wall time: 12min 33s\n",
      "71 0.33022043925969596 0.42826571864577245\n"
     ]
    },
    {
     "name": "stderr",
     "output_type": "stream",
     "text": [
      "/home/pytorch/anaconda3/lib/python3.7/site-packages/torch/serialization.py:256: UserWarning: Couldn't retrieve source code for container of type FusedEmbedding. It won't be checked for correctness upon loading.\n",
      "  \"type \" + obj.__name__ + \". It won't be checked \"\n"
     ]
    },
    {
     "name": "stdout",
     "output_type": "stream",
     "text": [
      "CPU times: user 57min 13s, sys: 1min 51s, total: 59min 4s\n",
      "Wall time: 12min 29s\n",
      "72 0.3318238516842279 0.4289678042864396\n"
     ]
    },
    {
     "name": "stderr",
     "output_type": "stream",
     "text": [
      "/home/pytorch/anaconda3/lib/python3.7/site-packages/torch/serialization.py:256: UserWarning: Couldn't retrieve source code for container of type FusedEmbedding. It won't be checked for correctness upon loading.\n",
      "  \"type \" + obj.__name__ + \". It won't be checked \"\n"
     ]
    },
    {
     "name": "stdout",
     "output_type": "stream",
     "text": [
      "CPU times: user 57min 41s, sys: 1min 52s, total: 59min 33s\n",
      "Wall time: 12min 28s\n",
      "73 0.32233038480396387 0.42437887737227614\n"
     ]
    },
    {
     "name": "stderr",
     "output_type": "stream",
     "text": [
      "/home/pytorch/anaconda3/lib/python3.7/site-packages/torch/serialization.py:256: UserWarning: Couldn't retrieve source code for container of type FusedEmbedding. It won't be checked for correctness upon loading.\n",
      "  \"type \" + obj.__name__ + \". It won't be checked \"\n"
     ]
    },
    {
     "name": "stdout",
     "output_type": "stream",
     "text": [
      "CPU times: user 57min 9s, sys: 1min 52s, total: 59min 1s\n",
      "Wall time: 12min 29s\n",
      "74 0.3245638424344142 0.4280332986938879\n"
     ]
    },
    {
     "name": "stderr",
     "output_type": "stream",
     "text": [
      "/home/pytorch/anaconda3/lib/python3.7/site-packages/torch/serialization.py:256: UserWarning: Couldn't retrieve source code for container of type FusedEmbedding. It won't be checked for correctness upon loading.\n",
      "  \"type \" + obj.__name__ + \". It won't be checked \"\n"
     ]
    },
    {
     "name": "stdout",
     "output_type": "stream",
     "text": [
      "CPU times: user 57min 12s, sys: 1min 53s, total: 59min 5s\n",
      "Wall time: 12min 26s\n",
      "75 0.32573546471731024 0.429481330439199\n"
     ]
    },
    {
     "name": "stderr",
     "output_type": "stream",
     "text": [
      "/home/pytorch/anaconda3/lib/python3.7/site-packages/torch/serialization.py:256: UserWarning: Couldn't retrieve source code for container of type FusedEmbedding. It won't be checked for correctness upon loading.\n",
      "  \"type \" + obj.__name__ + \". It won't be checked \"\n"
     ]
    },
    {
     "name": "stdout",
     "output_type": "stream",
     "text": [
      "CPU times: user 57min 12s, sys: 1min 51s, total: 59min 4s\n",
      "Wall time: 12min 27s\n",
      "76 0.3249212556894636 0.42715935633208396\n"
     ]
    },
    {
     "name": "stderr",
     "output_type": "stream",
     "text": [
      "/home/pytorch/anaconda3/lib/python3.7/site-packages/torch/serialization.py:256: UserWarning: Couldn't retrieve source code for container of type FusedEmbedding. It won't be checked for correctness upon loading.\n",
      "  \"type \" + obj.__name__ + \". It won't be checked \"\n"
     ]
    },
    {
     "name": "stdout",
     "output_type": "stream",
     "text": [
      "CPU times: user 58min, sys: 1min 51s, total: 59min 52s\n",
      "Wall time: 12min 33s\n",
      "77 0.3284509266080319 0.4300715526736241\n"
     ]
    },
    {
     "name": "stderr",
     "output_type": "stream",
     "text": [
      "/home/pytorch/anaconda3/lib/python3.7/site-packages/torch/serialization.py:256: UserWarning: Couldn't retrieve source code for container of type FusedEmbedding. It won't be checked for correctness upon loading.\n",
      "  \"type \" + obj.__name__ + \". It won't be checked \"\n"
     ]
    },
    {
     "name": "stdout",
     "output_type": "stream",
     "text": [
      "CPU times: user 57min 48s, sys: 1min 53s, total: 59min 42s\n",
      "Wall time: 12min 30s\n",
      "78 0.3277828225260748 0.4290963752432982\n"
     ]
    },
    {
     "name": "stderr",
     "output_type": "stream",
     "text": [
      "/home/pytorch/anaconda3/lib/python3.7/site-packages/torch/serialization.py:256: UserWarning: Couldn't retrieve source code for container of type FusedEmbedding. It won't be checked for correctness upon loading.\n",
      "  \"type \" + obj.__name__ + \". It won't be checked \"\n"
     ]
    },
    {
     "name": "stdout",
     "output_type": "stream",
     "text": [
      "CPU times: user 57min 22s, sys: 1min 52s, total: 59min 15s\n",
      "Wall time: 12min 27s\n",
      "79 0.32262885044391776 0.42874486688716534\n"
     ]
    },
    {
     "name": "stderr",
     "output_type": "stream",
     "text": [
      "/home/pytorch/anaconda3/lib/python3.7/site-packages/torch/serialization.py:256: UserWarning: Couldn't retrieve source code for container of type FusedEmbedding. It won't be checked for correctness upon loading.\n",
      "  \"type \" + obj.__name__ + \". It won't be checked \"\n"
     ]
    },
    {
     "name": "stdout",
     "output_type": "stream",
     "text": [
      "CPU times: user 58min 4s, sys: 1min 51s, total: 59min 56s\n",
      "Wall time: 12min 30s\n"
     ]
    }
   ],
   "source": [
    "for epoch in range(60, 80):\n",
    "    train_MAE, train_MSE = eval(model, train_df)\n",
    "    valid_MAE, valid_MSE = eval(model, valid_df)\n",
    "    print(epoch, np.sqrt(train_MSE), np.sqrt(valid_MSE))\n",
    "    if np.sqrt(valid_MSE)<0.435:\n",
    "        torch.save(model, 'saved_models/model_5r_3T_'+start_time+'_'+str(epoch)+'.pt')\n",
    "    %time train(model, train_df, optimizer, loss_function)\n"
   ]
  },
  {
   "cell_type": "code",
   "execution_count": 20,
   "metadata": {},
   "outputs": [
    {
     "name": "stdout",
     "output_type": "stream",
     "text": [
      "80 0.32454830453245553 0.430580259852152\n",
      "CPU times: user 56min 7s, sys: 3min 38s, total: 59min 46s\n",
      "Wall time: 17min 57s\n",
      "81 0.3186239451344799 0.4220849996673865\n"
     ]
    },
    {
     "name": "stderr",
     "output_type": "stream",
     "text": [
      "/home/pytorch/anaconda3/lib/python3.7/site-packages/torch/serialization.py:256: UserWarning: Couldn't retrieve source code for container of type FusedEmbedding. It won't be checked for correctness upon loading.\n",
      "  \"type \" + obj.__name__ + \". It won't be checked \"\n"
     ]
    },
    {
     "name": "stdout",
     "output_type": "stream",
     "text": [
      "CPU times: user 50min 58s, sys: 3min 39s, total: 54min 38s\n",
      "Wall time: 17min 5s\n",
      "82 0.3166421199306934 0.4238165136793651\n"
     ]
    },
    {
     "name": "stderr",
     "output_type": "stream",
     "text": [
      "/home/pytorch/anaconda3/lib/python3.7/site-packages/torch/serialization.py:256: UserWarning: Couldn't retrieve source code for container of type FusedEmbedding. It won't be checked for correctness upon loading.\n",
      "  \"type \" + obj.__name__ + \". It won't be checked \"\n"
     ]
    },
    {
     "name": "stdout",
     "output_type": "stream",
     "text": [
      "CPU times: user 51min 28s, sys: 3min 39s, total: 55min 8s\n",
      "Wall time: 17min 10s\n",
      "83 0.32213534577473135 0.42849189709576635\n",
      "CPU times: user 50min 34s, sys: 3min 11s, total: 53min 46s\n",
      "Wall time: 15min 32s\n",
      "84 0.3204961847863581 0.4286229858856802\n",
      "CPU times: user 51min 28s, sys: 3min 38s, total: 55min 7s\n",
      "Wall time: 17min 5s\n",
      "85 0.3185475661093863 0.42627249974360276\n",
      "CPU times: user 51min 12s, sys: 3min 39s, total: 54min 52s\n",
      "Wall time: 17min 6s\n",
      "86 0.32307883278056565 0.4253860987213171\n",
      "CPU times: user 51min 19s, sys: 3min 41s, total: 55min\n",
      "Wall time: 17min 10s\n",
      "87 0.3216029105514524 0.4255729223420788\n",
      "CPU times: user 51min 22s, sys: 3min 40s, total: 55min 2s\n",
      "Wall time: 17min 6s\n",
      "88 0.32046062526835 0.42789835048457475\n",
      "CPU times: user 51min 10s, sys: 3min 39s, total: 54min 50s\n",
      "Wall time: 17min 8s\n",
      "89 0.3183623341630496 0.4282918214086174\n",
      "CPU times: user 51min 34s, sys: 3min 38s, total: 55min 13s\n",
      "Wall time: 17min 7s\n",
      "90 0.317637582840235 0.4246677262707276\n"
     ]
    },
    {
     "name": "stderr",
     "output_type": "stream",
     "text": [
      "/home/pytorch/anaconda3/lib/python3.7/site-packages/torch/serialization.py:256: UserWarning: Couldn't retrieve source code for container of type FusedEmbedding. It won't be checked for correctness upon loading.\n",
      "  \"type \" + obj.__name__ + \". It won't be checked \"\n"
     ]
    },
    {
     "name": "stdout",
     "output_type": "stream",
     "text": [
      "CPU times: user 51min 26s, sys: 3min 40s, total: 55min 6s\n",
      "Wall time: 17min 8s\n",
      "91 0.32188941515868674 0.42586702603709187\n",
      "CPU times: user 51min 54s, sys: 3min 39s, total: 55min 33s\n",
      "Wall time: 17min 11s\n",
      "92 0.31459082827864776 0.42414439420963906\n"
     ]
    },
    {
     "name": "stderr",
     "output_type": "stream",
     "text": [
      "/home/pytorch/anaconda3/lib/python3.7/site-packages/torch/serialization.py:256: UserWarning: Couldn't retrieve source code for container of type FusedEmbedding. It won't be checked for correctness upon loading.\n",
      "  \"type \" + obj.__name__ + \". It won't be checked \"\n"
     ]
    },
    {
     "name": "stdout",
     "output_type": "stream",
     "text": [
      "CPU times: user 51min 29s, sys: 3min 39s, total: 55min 9s\n",
      "Wall time: 17min 8s\n",
      "93 0.31779084893432163 0.4270281714147652\n",
      "CPU times: user 51min 19s, sys: 3min 37s, total: 54min 56s\n",
      "Wall time: 17min 7s\n",
      "94 0.3157378850649458 0.4234092000562189\n"
     ]
    },
    {
     "name": "stderr",
     "output_type": "stream",
     "text": [
      "/home/pytorch/anaconda3/lib/python3.7/site-packages/torch/serialization.py:256: UserWarning: Couldn't retrieve source code for container of type FusedEmbedding. It won't be checked for correctness upon loading.\n",
      "  \"type \" + obj.__name__ + \". It won't be checked \"\n"
     ]
    },
    {
     "name": "stdout",
     "output_type": "stream",
     "text": [
      "CPU times: user 50min 57s, sys: 3min 41s, total: 54min 39s\n",
      "Wall time: 17min 11s\n",
      "95 0.31833346521479156 0.42333040680536554\n"
     ]
    },
    {
     "name": "stderr",
     "output_type": "stream",
     "text": [
      "/home/pytorch/anaconda3/lib/python3.7/site-packages/torch/serialization.py:256: UserWarning: Couldn't retrieve source code for container of type FusedEmbedding. It won't be checked for correctness upon loading.\n",
      "  \"type \" + obj.__name__ + \". It won't be checked \"\n"
     ]
    },
    {
     "name": "stdout",
     "output_type": "stream",
     "text": [
      "CPU times: user 51min 40s, sys: 3min 40s, total: 55min 20s\n",
      "Wall time: 17min 11s\n",
      "96 0.3126911294260349 0.42290138419929896\n"
     ]
    },
    {
     "name": "stderr",
     "output_type": "stream",
     "text": [
      "/home/pytorch/anaconda3/lib/python3.7/site-packages/torch/serialization.py:256: UserWarning: Couldn't retrieve source code for container of type FusedEmbedding. It won't be checked for correctness upon loading.\n",
      "  \"type \" + obj.__name__ + \". It won't be checked \"\n"
     ]
    },
    {
     "name": "stdout",
     "output_type": "stream",
     "text": [
      "CPU times: user 51min 10s, sys: 3min 39s, total: 54min 49s\n",
      "Wall time: 17min 7s\n",
      "97 0.3106814572351314 0.419460642453802\n"
     ]
    },
    {
     "name": "stderr",
     "output_type": "stream",
     "text": [
      "/home/pytorch/anaconda3/lib/python3.7/site-packages/torch/serialization.py:256: UserWarning: Couldn't retrieve source code for container of type FusedEmbedding. It won't be checked for correctness upon loading.\n",
      "  \"type \" + obj.__name__ + \". It won't be checked \"\n"
     ]
    },
    {
     "name": "stdout",
     "output_type": "stream",
     "text": [
      "CPU times: user 51min 23s, sys: 3min 40s, total: 55min 4s\n",
      "Wall time: 17min 10s\n",
      "98 0.309461829734231 0.4211037952308342\n"
     ]
    },
    {
     "name": "stderr",
     "output_type": "stream",
     "text": [
      "/home/pytorch/anaconda3/lib/python3.7/site-packages/torch/serialization.py:256: UserWarning: Couldn't retrieve source code for container of type FusedEmbedding. It won't be checked for correctness upon loading.\n",
      "  \"type \" + obj.__name__ + \". It won't be checked \"\n"
     ]
    },
    {
     "name": "stdout",
     "output_type": "stream",
     "text": [
      "CPU times: user 52min 2s, sys: 3min 40s, total: 55min 43s\n",
      "Wall time: 17min 9s\n",
      "99 0.3082573754003625 0.42225232281773245\n"
     ]
    },
    {
     "name": "stderr",
     "output_type": "stream",
     "text": [
      "/home/pytorch/anaconda3/lib/python3.7/site-packages/torch/serialization.py:256: UserWarning: Couldn't retrieve source code for container of type FusedEmbedding. It won't be checked for correctness upon loading.\n",
      "  \"type \" + obj.__name__ + \". It won't be checked \"\n"
     ]
    },
    {
     "name": "stdout",
     "output_type": "stream",
     "text": [
      "CPU times: user 51min 15s, sys: 3min 39s, total: 54min 54s\n",
      "Wall time: 17min 8s\n",
      "100 0.31273763943281047 0.42613604278050565\n",
      "CPU times: user 46min 56s, sys: 1min 58s, total: 48min 55s\n",
      "Wall time: 11min 18s\n",
      "101 0.3068000188841224 0.4240622033369626\n"
     ]
    },
    {
     "name": "stderr",
     "output_type": "stream",
     "text": [
      "/home/pytorch/anaconda3/lib/python3.7/site-packages/torch/serialization.py:256: UserWarning: Couldn't retrieve source code for container of type FusedEmbedding. It won't be checked for correctness upon loading.\n",
      "  \"type \" + obj.__name__ + \". It won't be checked \"\n"
     ]
    },
    {
     "name": "stdout",
     "output_type": "stream",
     "text": [
      "CPU times: user 46min 6s, sys: 1min 58s, total: 48min 4s\n",
      "Wall time: 11min 13s\n",
      "102 0.30818043052476995 0.42220950476516267\n"
     ]
    },
    {
     "name": "stderr",
     "output_type": "stream",
     "text": [
      "/home/pytorch/anaconda3/lib/python3.7/site-packages/torch/serialization.py:256: UserWarning: Couldn't retrieve source code for container of type FusedEmbedding. It won't be checked for correctness upon loading.\n",
      "  \"type \" + obj.__name__ + \". It won't be checked \"\n"
     ]
    },
    {
     "name": "stdout",
     "output_type": "stream",
     "text": [
      "CPU times: user 46min 3s, sys: 1min 58s, total: 48min 2s\n",
      "Wall time: 11min 13s\n",
      "103 0.3104930960412615 0.4233225467137397\n"
     ]
    },
    {
     "name": "stderr",
     "output_type": "stream",
     "text": [
      "/home/pytorch/anaconda3/lib/python3.7/site-packages/torch/serialization.py:256: UserWarning: Couldn't retrieve source code for container of type FusedEmbedding. It won't be checked for correctness upon loading.\n",
      "  \"type \" + obj.__name__ + \". It won't be checked \"\n"
     ]
    },
    {
     "name": "stdout",
     "output_type": "stream",
     "text": [
      "CPU times: user 46min 21s, sys: 1min 59s, total: 48min 21s\n",
      "Wall time: 11min 14s\n",
      "104 0.30974425741705747 0.42344515197996674\n"
     ]
    },
    {
     "name": "stderr",
     "output_type": "stream",
     "text": [
      "/home/pytorch/anaconda3/lib/python3.7/site-packages/torch/serialization.py:256: UserWarning: Couldn't retrieve source code for container of type FusedEmbedding. It won't be checked for correctness upon loading.\n",
      "  \"type \" + obj.__name__ + \". It won't be checked \"\n"
     ]
    },
    {
     "name": "stdout",
     "output_type": "stream",
     "text": [
      "CPU times: user 46min 7s, sys: 1min 59s, total: 48min 6s\n",
      "Wall time: 11min 13s\n",
      "105 0.314315979375626 0.42453750326065953\n"
     ]
    },
    {
     "name": "stderr",
     "output_type": "stream",
     "text": [
      "/home/pytorch/anaconda3/lib/python3.7/site-packages/torch/serialization.py:256: UserWarning: Couldn't retrieve source code for container of type FusedEmbedding. It won't be checked for correctness upon loading.\n",
      "  \"type \" + obj.__name__ + \". It won't be checked \"\n"
     ]
    },
    {
     "name": "stdout",
     "output_type": "stream",
     "text": [
      "CPU times: user 45min 58s, sys: 1min 59s, total: 47min 58s\n",
      "Wall time: 11min 13s\n",
      "106 0.31274464698390786 0.42385961416374573\n"
     ]
    },
    {
     "name": "stderr",
     "output_type": "stream",
     "text": [
      "/home/pytorch/anaconda3/lib/python3.7/site-packages/torch/serialization.py:256: UserWarning: Couldn't retrieve source code for container of type FusedEmbedding. It won't be checked for correctness upon loading.\n",
      "  \"type \" + obj.__name__ + \". It won't be checked \"\n"
     ]
    },
    {
     "name": "stdout",
     "output_type": "stream",
     "text": [
      "CPU times: user 46min 37s, sys: 1min 59s, total: 48min 37s\n",
      "Wall time: 11min 17s\n",
      "107 0.31165060750069207 0.42939386094837284\n",
      "CPU times: user 45min 56s, sys: 1min 59s, total: 47min 55s\n",
      "Wall time: 11min 12s\n",
      "108 0.30484191144184847 0.42274927947323904\n"
     ]
    },
    {
     "name": "stderr",
     "output_type": "stream",
     "text": [
      "/home/pytorch/anaconda3/lib/python3.7/site-packages/torch/serialization.py:256: UserWarning: Couldn't retrieve source code for container of type FusedEmbedding. It won't be checked for correctness upon loading.\n",
      "  \"type \" + obj.__name__ + \". It won't be checked \"\n"
     ]
    },
    {
     "name": "stdout",
     "output_type": "stream",
     "text": [
      "CPU times: user 46min 20s, sys: 1min 59s, total: 48min 19s\n",
      "Wall time: 11min 15s\n",
      "109 0.3039906114693454 0.4263879785332792\n",
      "CPU times: user 46min 14s, sys: 1min 57s, total: 48min 12s\n",
      "Wall time: 11min 14s\n",
      "110 0.3107884473585319 0.4257580478127926\n",
      "CPU times: user 46min 9s, sys: 1min 59s, total: 48min 8s\n",
      "Wall time: 11min 13s\n",
      "111 0.30651710787449343 0.42116801024993544\n"
     ]
    },
    {
     "name": "stderr",
     "output_type": "stream",
     "text": [
      "/home/pytorch/anaconda3/lib/python3.7/site-packages/torch/serialization.py:256: UserWarning: Couldn't retrieve source code for container of type FusedEmbedding. It won't be checked for correctness upon loading.\n",
      "  \"type \" + obj.__name__ + \". It won't be checked \"\n"
     ]
    },
    {
     "name": "stdout",
     "output_type": "stream",
     "text": [
      "CPU times: user 46min 35s, sys: 1min 59s, total: 48min 34s\n",
      "Wall time: 11min 15s\n",
      "112 0.30902372676701917 0.42495526977576425\n"
     ]
    },
    {
     "name": "stderr",
     "output_type": "stream",
     "text": [
      "/home/pytorch/anaconda3/lib/python3.7/site-packages/torch/serialization.py:256: UserWarning: Couldn't retrieve source code for container of type FusedEmbedding. It won't be checked for correctness upon loading.\n",
      "  \"type \" + obj.__name__ + \". It won't be checked \"\n"
     ]
    },
    {
     "name": "stdout",
     "output_type": "stream",
     "text": [
      "CPU times: user 46min 25s, sys: 1min 59s, total: 48min 24s\n",
      "Wall time: 11min 15s\n",
      "113 0.3058522354537525 0.42481743560202645\n"
     ]
    },
    {
     "name": "stderr",
     "output_type": "stream",
     "text": [
      "/home/pytorch/anaconda3/lib/python3.7/site-packages/torch/serialization.py:256: UserWarning: Couldn't retrieve source code for container of type FusedEmbedding. It won't be checked for correctness upon loading.\n",
      "  \"type \" + obj.__name__ + \". It won't be checked \"\n"
     ]
    },
    {
     "name": "stdout",
     "output_type": "stream",
     "text": [
      "CPU times: user 46min 11s, sys: 2min, total: 48min 11s\n",
      "Wall time: 11min 13s\n",
      "114 0.3088230309060959 0.42652050954664505\n",
      "CPU times: user 46min 35s, sys: 1min 59s, total: 48min 34s\n",
      "Wall time: 11min 16s\n",
      "115 0.3056286090448666 0.42338738253987157\n"
     ]
    },
    {
     "name": "stderr",
     "output_type": "stream",
     "text": [
      "/home/pytorch/anaconda3/lib/python3.7/site-packages/torch/serialization.py:256: UserWarning: Couldn't retrieve source code for container of type FusedEmbedding. It won't be checked for correctness upon loading.\n",
      "  \"type \" + obj.__name__ + \". It won't be checked \"\n"
     ]
    },
    {
     "name": "stdout",
     "output_type": "stream",
     "text": [
      "CPU times: user 46min 25s, sys: 1min 58s, total: 48min 23s\n",
      "Wall time: 11min 15s\n",
      "116 0.307558324837211 0.4239061568753188\n"
     ]
    },
    {
     "name": "stderr",
     "output_type": "stream",
     "text": [
      "/home/pytorch/anaconda3/lib/python3.7/site-packages/torch/serialization.py:256: UserWarning: Couldn't retrieve source code for container of type FusedEmbedding. It won't be checked for correctness upon loading.\n",
      "  \"type \" + obj.__name__ + \". It won't be checked \"\n"
     ]
    },
    {
     "name": "stdout",
     "output_type": "stream",
     "text": [
      "CPU times: user 45min 52s, sys: 1min 58s, total: 47min 51s\n",
      "Wall time: 11min 12s\n",
      "117 0.3049792316356089 0.42299019626151735\n"
     ]
    },
    {
     "name": "stderr",
     "output_type": "stream",
     "text": [
      "/home/pytorch/anaconda3/lib/python3.7/site-packages/torch/serialization.py:256: UserWarning: Couldn't retrieve source code for container of type FusedEmbedding. It won't be checked for correctness upon loading.\n",
      "  \"type \" + obj.__name__ + \". It won't be checked \"\n"
     ]
    },
    {
     "name": "stdout",
     "output_type": "stream",
     "text": [
      "CPU times: user 46min 12s, sys: 1min 59s, total: 48min 11s\n",
      "Wall time: 11min 13s\n",
      "118 0.3028220766657474 0.4236300947524468\n"
     ]
    },
    {
     "name": "stderr",
     "output_type": "stream",
     "text": [
      "/home/pytorch/anaconda3/lib/python3.7/site-packages/torch/serialization.py:256: UserWarning: Couldn't retrieve source code for container of type FusedEmbedding. It won't be checked for correctness upon loading.\n",
      "  \"type \" + obj.__name__ + \". It won't be checked \"\n"
     ]
    },
    {
     "name": "stdout",
     "output_type": "stream",
     "text": [
      "CPU times: user 45min 53s, sys: 1min 58s, total: 47min 52s\n",
      "Wall time: 11min 13s\n",
      "119 0.3035932994999718 0.4208779016955937\n"
     ]
    },
    {
     "name": "stderr",
     "output_type": "stream",
     "text": [
      "/home/pytorch/anaconda3/lib/python3.7/site-packages/torch/serialization.py:256: UserWarning: Couldn't retrieve source code for container of type FusedEmbedding. It won't be checked for correctness upon loading.\n",
      "  \"type \" + obj.__name__ + \". It won't be checked \"\n"
     ]
    },
    {
     "name": "stdout",
     "output_type": "stream",
     "text": [
      "CPU times: user 46min 13s, sys: 1min 59s, total: 48min 12s\n",
      "Wall time: 11min 15s\n",
      "120 0.30446670145317845 0.42008464609091917\n"
     ]
    },
    {
     "name": "stderr",
     "output_type": "stream",
     "text": [
      "/home/pytorch/anaconda3/lib/python3.7/site-packages/torch/serialization.py:256: UserWarning: Couldn't retrieve source code for container of type FusedEmbedding. It won't be checked for correctness upon loading.\n",
      "  \"type \" + obj.__name__ + \". It won't be checked \"\n"
     ]
    },
    {
     "name": "stdout",
     "output_type": "stream",
     "text": [
      "CPU times: user 46min 26s, sys: 1min 59s, total: 48min 25s\n",
      "Wall time: 11min 14s\n",
      "121 0.2998689846584187 0.42068578897873965\n"
     ]
    },
    {
     "name": "stderr",
     "output_type": "stream",
     "text": [
      "/home/pytorch/anaconda3/lib/python3.7/site-packages/torch/serialization.py:256: UserWarning: Couldn't retrieve source code for container of type FusedEmbedding. It won't be checked for correctness upon loading.\n",
      "  \"type \" + obj.__name__ + \". It won't be checked \"\n"
     ]
    },
    {
     "name": "stdout",
     "output_type": "stream",
     "text": [
      "CPU times: user 46min, sys: 1min 59s, total: 47min 59s\n",
      "Wall time: 11min 13s\n",
      "122 0.2944743578244055 0.416942154595519\n"
     ]
    },
    {
     "name": "stderr",
     "output_type": "stream",
     "text": [
      "/home/pytorch/anaconda3/lib/python3.7/site-packages/torch/serialization.py:256: UserWarning: Couldn't retrieve source code for container of type FusedEmbedding. It won't be checked for correctness upon loading.\n",
      "  \"type \" + obj.__name__ + \". It won't be checked \"\n"
     ]
    },
    {
     "name": "stdout",
     "output_type": "stream",
     "text": [
      "CPU times: user 45min 42s, sys: 1min 57s, total: 47min 40s\n",
      "Wall time: 11min 12s\n",
      "123 0.29823838690403826 0.4188533304162302\n"
     ]
    },
    {
     "name": "stderr",
     "output_type": "stream",
     "text": [
      "/home/pytorch/anaconda3/lib/python3.7/site-packages/torch/serialization.py:256: UserWarning: Couldn't retrieve source code for container of type FusedEmbedding. It won't be checked for correctness upon loading.\n",
      "  \"type \" + obj.__name__ + \". It won't be checked \"\n"
     ]
    },
    {
     "name": "stdout",
     "output_type": "stream",
     "text": [
      "CPU times: user 46min 20s, sys: 1min 59s, total: 48min 19s\n",
      "Wall time: 11min 15s\n",
      "124 0.3086859243804076 0.4290285573272994\n",
      "CPU times: user 46min, sys: 1min 58s, total: 47min 58s\n",
      "Wall time: 11min 12s\n",
      "125 0.2965190930550345 0.42082251251932584\n"
     ]
    },
    {
     "name": "stderr",
     "output_type": "stream",
     "text": [
      "/home/pytorch/anaconda3/lib/python3.7/site-packages/torch/serialization.py:256: UserWarning: Couldn't retrieve source code for container of type FusedEmbedding. It won't be checked for correctness upon loading.\n",
      "  \"type \" + obj.__name__ + \". It won't be checked \"\n"
     ]
    },
    {
     "name": "stdout",
     "output_type": "stream",
     "text": [
      "CPU times: user 45min 33s, sys: 1min 59s, total: 47min 32s\n",
      "Wall time: 11min 12s\n",
      "126 0.2957746317358371 0.4199133165489168\n"
     ]
    },
    {
     "name": "stderr",
     "output_type": "stream",
     "text": [
      "/home/pytorch/anaconda3/lib/python3.7/site-packages/torch/serialization.py:256: UserWarning: Couldn't retrieve source code for container of type FusedEmbedding. It won't be checked for correctness upon loading.\n",
      "  \"type \" + obj.__name__ + \". It won't be checked \"\n"
     ]
    },
    {
     "name": "stdout",
     "output_type": "stream",
     "text": [
      "CPU times: user 46min, sys: 1min 59s, total: 47min 59s\n",
      "Wall time: 11min 12s\n",
      "127 0.29725159030600345 0.4251062082445618\n",
      "CPU times: user 46min 16s, sys: 1min 58s, total: 48min 15s\n",
      "Wall time: 11min 14s\n",
      "128 0.30081891808609623 0.425058621618519\n",
      "CPU times: user 46min 9s, sys: 1min 59s, total: 48min 8s\n",
      "Wall time: 11min 14s\n",
      "129 0.2965017675915099 0.42108004505600166\n"
     ]
    },
    {
     "name": "stderr",
     "output_type": "stream",
     "text": [
      "/home/pytorch/anaconda3/lib/python3.7/site-packages/torch/serialization.py:256: UserWarning: Couldn't retrieve source code for container of type FusedEmbedding. It won't be checked for correctness upon loading.\n",
      "  \"type \" + obj.__name__ + \". It won't be checked \"\n"
     ]
    },
    {
     "name": "stdout",
     "output_type": "stream",
     "text": [
      "CPU times: user 45min 50s, sys: 2min, total: 47min 50s\n",
      "Wall time: 11min 12s\n",
      "130 0.2970294381199886 0.4172537277740517\n"
     ]
    },
    {
     "name": "stderr",
     "output_type": "stream",
     "text": [
      "/home/pytorch/anaconda3/lib/python3.7/site-packages/torch/serialization.py:256: UserWarning: Couldn't retrieve source code for container of type FusedEmbedding. It won't be checked for correctness upon loading.\n",
      "  \"type \" + obj.__name__ + \". It won't be checked \"\n"
     ]
    },
    {
     "name": "stdout",
     "output_type": "stream",
     "text": [
      "CPU times: user 46min 10s, sys: 1min 58s, total: 48min 9s\n",
      "Wall time: 11min 14s\n",
      "131 0.2986530650604918 0.42086137305632587\n"
     ]
    },
    {
     "name": "stderr",
     "output_type": "stream",
     "text": [
      "/home/pytorch/anaconda3/lib/python3.7/site-packages/torch/serialization.py:256: UserWarning: Couldn't retrieve source code for container of type FusedEmbedding. It won't be checked for correctness upon loading.\n",
      "  \"type \" + obj.__name__ + \". It won't be checked \"\n"
     ]
    },
    {
     "name": "stdout",
     "output_type": "stream",
     "text": [
      "CPU times: user 46min 20s, sys: 1min 58s, total: 48min 18s\n",
      "Wall time: 11min 13s\n",
      "132 0.2980775181430842 0.4230024301381774\n"
     ]
    },
    {
     "name": "stderr",
     "output_type": "stream",
     "text": [
      "/home/pytorch/anaconda3/lib/python3.7/site-packages/torch/serialization.py:256: UserWarning: Couldn't retrieve source code for container of type FusedEmbedding. It won't be checked for correctness upon loading.\n",
      "  \"type \" + obj.__name__ + \". It won't be checked \"\n"
     ]
    },
    {
     "name": "stdout",
     "output_type": "stream",
     "text": [
      "CPU times: user 45min 53s, sys: 1min 59s, total: 47min 53s\n",
      "Wall time: 11min 12s\n",
      "133 0.29607747050371847 0.4223037746397909\n"
     ]
    },
    {
     "name": "stderr",
     "output_type": "stream",
     "text": [
      "/home/pytorch/anaconda3/lib/python3.7/site-packages/torch/serialization.py:256: UserWarning: Couldn't retrieve source code for container of type FusedEmbedding. It won't be checked for correctness upon loading.\n",
      "  \"type \" + obj.__name__ + \". It won't be checked \"\n"
     ]
    },
    {
     "name": "stdout",
     "output_type": "stream",
     "text": [
      "CPU times: user 46min 7s, sys: 1min 58s, total: 48min 6s\n",
      "Wall time: 11min 13s\n",
      "134 0.3054486735097297 0.42385098552189565\n"
     ]
    },
    {
     "name": "stderr",
     "output_type": "stream",
     "text": [
      "/home/pytorch/anaconda3/lib/python3.7/site-packages/torch/serialization.py:256: UserWarning: Couldn't retrieve source code for container of type FusedEmbedding. It won't be checked for correctness upon loading.\n",
      "  \"type \" + obj.__name__ + \". It won't be checked \"\n"
     ]
    },
    {
     "name": "stdout",
     "output_type": "stream",
     "text": [
      "CPU times: user 45min 29s, sys: 1min 58s, total: 47min 28s\n",
      "Wall time: 11min 12s\n",
      "135 0.2992014680903568 0.42550850814193614\n",
      "CPU times: user 46min 5s, sys: 1min 59s, total: 48min 5s\n",
      "Wall time: 11min 13s\n",
      "136 0.30135185371836104 0.4264216014569548\n",
      "CPU times: user 46min 6s, sys: 1min 58s, total: 48min 5s\n",
      "Wall time: 11min 14s\n",
      "137 0.29348535955160865 0.4198017150142658\n"
     ]
    },
    {
     "name": "stderr",
     "output_type": "stream",
     "text": [
      "/home/pytorch/anaconda3/lib/python3.7/site-packages/torch/serialization.py:256: UserWarning: Couldn't retrieve source code for container of type FusedEmbedding. It won't be checked for correctness upon loading.\n",
      "  \"type \" + obj.__name__ + \". It won't be checked \"\n"
     ]
    },
    {
     "name": "stdout",
     "output_type": "stream",
     "text": [
      "CPU times: user 46min 18s, sys: 1min 58s, total: 48min 17s\n",
      "Wall time: 11min 14s\n",
      "138 0.29473721574147077 0.42087028695597384\n"
     ]
    },
    {
     "name": "stderr",
     "output_type": "stream",
     "text": [
      "/home/pytorch/anaconda3/lib/python3.7/site-packages/torch/serialization.py:256: UserWarning: Couldn't retrieve source code for container of type FusedEmbedding. It won't be checked for correctness upon loading.\n",
      "  \"type \" + obj.__name__ + \". It won't be checked \"\n"
     ]
    },
    {
     "name": "stdout",
     "output_type": "stream",
     "text": [
      "CPU times: user 46min 12s, sys: 1min 58s, total: 48min 11s\n",
      "Wall time: 11min 13s\n",
      "139 0.30182835838780464 0.4272033331048539\n",
      "CPU times: user 46min 23s, sys: 1min 57s, total: 48min 21s\n",
      "Wall time: 11min 14s\n",
      "140 0.3004601431063179 0.4249837494873798\n"
     ]
    },
    {
     "name": "stderr",
     "output_type": "stream",
     "text": [
      "/home/pytorch/anaconda3/lib/python3.7/site-packages/torch/serialization.py:256: UserWarning: Couldn't retrieve source code for container of type FusedEmbedding. It won't be checked for correctness upon loading.\n",
      "  \"type \" + obj.__name__ + \". It won't be checked \"\n"
     ]
    },
    {
     "name": "stdout",
     "output_type": "stream",
     "text": [
      "CPU times: user 46min 7s, sys: 1min 59s, total: 48min 6s\n",
      "Wall time: 11min 14s\n",
      "141 0.29950265150926664 0.4244357567781004\n"
     ]
    },
    {
     "name": "stderr",
     "output_type": "stream",
     "text": [
      "/home/pytorch/anaconda3/lib/python3.7/site-packages/torch/serialization.py:256: UserWarning: Couldn't retrieve source code for container of type FusedEmbedding. It won't be checked for correctness upon loading.\n",
      "  \"type \" + obj.__name__ + \". It won't be checked \"\n"
     ]
    },
    {
     "name": "stdout",
     "output_type": "stream",
     "text": [
      "CPU times: user 46min 18s, sys: 1min 58s, total: 48min 16s\n",
      "Wall time: 11min 14s\n",
      "142 0.29223459173590777 0.41960645884124326\n"
     ]
    },
    {
     "name": "stderr",
     "output_type": "stream",
     "text": [
      "/home/pytorch/anaconda3/lib/python3.7/site-packages/torch/serialization.py:256: UserWarning: Couldn't retrieve source code for container of type FusedEmbedding. It won't be checked for correctness upon loading.\n",
      "  \"type \" + obj.__name__ + \". It won't be checked \"\n"
     ]
    },
    {
     "name": "stdout",
     "output_type": "stream",
     "text": [
      "CPU times: user 46min 22s, sys: 1min 58s, total: 48min 21s\n",
      "Wall time: 11min 14s\n",
      "143 0.2915654057008638 0.41905615797043055\n"
     ]
    },
    {
     "name": "stderr",
     "output_type": "stream",
     "text": [
      "/home/pytorch/anaconda3/lib/python3.7/site-packages/torch/serialization.py:256: UserWarning: Couldn't retrieve source code for container of type FusedEmbedding. It won't be checked for correctness upon loading.\n",
      "  \"type \" + obj.__name__ + \". It won't be checked \"\n"
     ]
    },
    {
     "name": "stdout",
     "output_type": "stream",
     "text": [
      "CPU times: user 46min 9s, sys: 1min 59s, total: 48min 8s\n",
      "Wall time: 11min 13s\n",
      "144 0.29685976985956497 0.4235669651249253\n"
     ]
    },
    {
     "name": "stderr",
     "output_type": "stream",
     "text": [
      "/home/pytorch/anaconda3/lib/python3.7/site-packages/torch/serialization.py:256: UserWarning: Couldn't retrieve source code for container of type FusedEmbedding. It won't be checked for correctness upon loading.\n",
      "  \"type \" + obj.__name__ + \". It won't be checked \"\n"
     ]
    },
    {
     "name": "stdout",
     "output_type": "stream",
     "text": [
      "CPU times: user 46min 21s, sys: 2min, total: 48min 21s\n",
      "Wall time: 11min 14s\n",
      "145 0.29578210490432105 0.422401727830831\n"
     ]
    },
    {
     "name": "stderr",
     "output_type": "stream",
     "text": [
      "/home/pytorch/anaconda3/lib/python3.7/site-packages/torch/serialization.py:256: UserWarning: Couldn't retrieve source code for container of type FusedEmbedding. It won't be checked for correctness upon loading.\n",
      "  \"type \" + obj.__name__ + \". It won't be checked \"\n"
     ]
    },
    {
     "name": "stdout",
     "output_type": "stream",
     "text": [
      "CPU times: user 46min 4s, sys: 1min 59s, total: 48min 4s\n",
      "Wall time: 11min 13s\n",
      "146 0.2886830585673869 0.4198839092462769\n"
     ]
    },
    {
     "name": "stderr",
     "output_type": "stream",
     "text": [
      "/home/pytorch/anaconda3/lib/python3.7/site-packages/torch/serialization.py:256: UserWarning: Couldn't retrieve source code for container of type FusedEmbedding. It won't be checked for correctness upon loading.\n",
      "  \"type \" + obj.__name__ + \". It won't be checked \"\n"
     ]
    },
    {
     "name": "stdout",
     "output_type": "stream",
     "text": [
      "CPU times: user 47min 31s, sys: 1min 58s, total: 49min 30s\n",
      "Wall time: 11min 23s\n",
      "147 0.29282424676915353 0.4243237230544093\n"
     ]
    },
    {
     "name": "stderr",
     "output_type": "stream",
     "text": [
      "/home/pytorch/anaconda3/lib/python3.7/site-packages/torch/serialization.py:256: UserWarning: Couldn't retrieve source code for container of type FusedEmbedding. It won't be checked for correctness upon loading.\n",
      "  \"type \" + obj.__name__ + \". It won't be checked \"\n"
     ]
    },
    {
     "name": "stdout",
     "output_type": "stream",
     "text": [
      "CPU times: user 46min 11s, sys: 1min 59s, total: 48min 11s\n",
      "Wall time: 11min 13s\n",
      "148 0.292473132814067 0.4220039265722676\n"
     ]
    },
    {
     "name": "stderr",
     "output_type": "stream",
     "text": [
      "/home/pytorch/anaconda3/lib/python3.7/site-packages/torch/serialization.py:256: UserWarning: Couldn't retrieve source code for container of type FusedEmbedding. It won't be checked for correctness upon loading.\n",
      "  \"type \" + obj.__name__ + \". It won't be checked \"\n"
     ]
    },
    {
     "name": "stdout",
     "output_type": "stream",
     "text": [
      "CPU times: user 46min 23s, sys: 1min 58s, total: 48min 22s\n",
      "Wall time: 11min 14s\n",
      "149 0.2919763572011187 0.41856522073007235\n"
     ]
    },
    {
     "name": "stderr",
     "output_type": "stream",
     "text": [
      "/home/pytorch/anaconda3/lib/python3.7/site-packages/torch/serialization.py:256: UserWarning: Couldn't retrieve source code for container of type FusedEmbedding. It won't be checked for correctness upon loading.\n",
      "  \"type \" + obj.__name__ + \". It won't be checked \"\n"
     ]
    },
    {
     "name": "stdout",
     "output_type": "stream",
     "text": [
      "CPU times: user 45min 32s, sys: 1min 58s, total: 47min 31s\n",
      "Wall time: 11min 10s\n"
     ]
    }
   ],
   "source": [
    "for epoch in range(80, 150):\n",
    "    train_MAE, train_MSE = eval(model, train_df)\n",
    "    valid_MAE, valid_MSE = eval(model, valid_df)\n",
    "    print(epoch, np.sqrt(train_MSE), np.sqrt(valid_MSE))\n",
    "    if np.sqrt(valid_MSE)<0.425:\n",
    "        torch.save(model, 'saved_models/model_5r_3T_'+start_time+'_'+str(epoch)+'.pt')\n",
    "    %time train(model, train_df, optimizer, loss_function)\n"
   ]
  }
 ],
 "metadata": {
  "kernelspec": {
   "display_name": "Python 3",
   "language": "python",
   "name": "python3"
  },
  "language_info": {
   "codemirror_mode": {
    "name": "ipython",
    "version": 3
   },
   "file_extension": ".py",
   "mimetype": "text/x-python",
   "name": "python",
   "nbconvert_exporter": "python",
   "pygments_lexer": "ipython3",
   "version": "3.7.2"
  }
 },
 "nbformat": 4,
 "nbformat_minor": 1
}
