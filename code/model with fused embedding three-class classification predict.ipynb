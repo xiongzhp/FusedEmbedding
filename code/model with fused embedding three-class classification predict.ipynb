{
 "cells": [
  {
   "cell_type": "code",
   "execution_count": 1,
   "metadata": {
    "_kg_hide-input": true
   },
   "outputs": [],
   "source": [
    "import os\n",
    "os.environ[\"CUDA_DEVICE_ORDER\"]=\"PCI_BUS_ID\"   \n",
    "os.environ[\"CUDA_VISIBLE_DEVICES\"]=\"0\"\n",
    "import torch\n",
    "import torch.autograd as autograd\n",
    "import torch.nn as nn\n",
    "import torch.nn.functional as F\n",
    "import torch.optim as optim\n",
    "import torch.utils.data as Data\n",
    "torch.manual_seed(8) # for reproduce\n",
    "\n",
    "import time\n",
    "import numpy as np\n",
    "import gc\n",
    "import sys\n",
    "sys.setrecursionlimit(50000)\n",
    "import pickle\n",
    "torch.backends.cudnn.benchmark = True\n",
    "torch.set_default_tensor_type('torch.cuda.FloatTensor')\n",
    "torch.nn.Module.dump_patches = True\n",
    "import copy\n",
    "import pandas as pd\n",
    "\n",
    "# then import my own modules\n",
    "from Featurization import save_smiles_dicts, get_smiles_dicts, get_smiles_array, moltosvg_highlight"
   ]
  },
  {
   "cell_type": "code",
   "execution_count": 2,
   "metadata": {},
   "outputs": [],
   "source": [
    "import torch\n",
    "import torch.autograd as autograd\n",
    "import torch.nn as nn\n",
    "import torch.nn.functional as F\n",
    "import torch.optim as optim\n",
    "\n",
    "class FusedEmbedding(nn.Module):\n",
    "\n",
    "    def __init__(self, radius, T, input_feature_dim, input_bond_dim,\\\n",
    "            fingerprint_dim, embedding_dim, output_units_num, p_dropout=0.0):\n",
    "        super(FusedEmbedding, self).__init__()\n",
    "        self.dropout = nn.Dropout(p=p_dropout)\n",
    "#         self.norm = LayerNorm(fingerprint_dim)\n",
    "        self.atom_fc = nn.Linear(input_feature_dim, fingerprint_dim)        \n",
    "        self.neighbor_fc = nn.Linear(input_feature_dim+input_bond_dim, fingerprint_dim)\n",
    "        self.atom_GRU = nn.ModuleList([nn.GRUCell(fingerprint_dim, fingerprint_dim) for r in range(radius)])\n",
    "\n",
    "#         self.fused_align = nn.ModuleList([nn.Linear(embedding_dim+fingerprint_dim,1) for head in range(3)])\n",
    "#         self.fused_attend = nn.ModuleList([nn.Linear(fingerprint_dim, fingerprint_dim) for head in range(3)])\n",
    "#         self.fused_fc = nn.Linear(fingerprint_dim+embedding_dim, fingerprint_dim) \n",
    "        self.fused_GRU = nn.GRUCell(embedding_dim, fingerprint_dim)\n",
    "        self.output = nn.Linear(fingerprint_dim, output_units_num) \n",
    "        self.radius = radius\n",
    "        self.T = T\n",
    "        self.embedding_dim = embedding_dim\n",
    "\n",
    "    def forward(self, atom_list, bond_list, atom_degree_list, bond_degree_list, atom_mask, seq_embeddings):\n",
    "        atom_mask = atom_mask.unsqueeze(2)\n",
    "        batch_size,mol_length,num_atom_feat = atom_list.size()\n",
    "        atom_feature = F.relu(self.atom_fc(atom_list)) * atom_mask\n",
    "\n",
    "        bond_neighbor = [bond_list[i][bond_degree_list[i]] for i in range(batch_size)]\n",
    "        bond_neighbor = torch.stack(bond_neighbor, dim=0)\n",
    "        atom_neighbor = [atom_list[i][atom_degree_list[i]] for i in range(batch_size)]\n",
    "        atom_neighbor = torch.stack(atom_neighbor, dim=0)\n",
    "        # then catenate them\n",
    "        neighbor_feature = torch.cat([atom_neighbor, bond_neighbor],dim=-1)\n",
    "#         print(neighbor_feature.shape, neighbor_feature[0][0])\n",
    "        max_features = torch.max(neighbor_feature,dim=-2)[0]\n",
    "        max_features = F.relu(self.neighbor_fc(max_features))\n",
    "#         print(max_features.shape, max_features[0])\n",
    "        batch_size, mol_length, fingerprint_dim = atom_feature.shape\n",
    "        atom_feature_reshape = atom_feature.view(batch_size*mol_length, fingerprint_dim)\n",
    "        max_features_reshape = max_features.view(batch_size*mol_length, fingerprint_dim)\n",
    "        atom_feature_GRU = self.atom_GRU[0](max_features_reshape, atom_feature_reshape)\n",
    "        atom_feature = atom_feature_GRU.view(batch_size, mol_length, fingerprint_dim) * atom_mask        \n",
    "\n",
    "        for d in range(self.radius-1):\n",
    "            neighbor_feature = [atom_feature[i][atom_degree_list[i]] for i in range(batch_size)]\n",
    "            # neighbor_feature is a list of 3D tensor, so we need to stack them into a 4D tensor first\n",
    "            neighbor_feature = torch.stack(neighbor_feature, dim=0)\n",
    "            # then max-pooling \n",
    "            max_features = torch.max(neighbor_feature,dim=-2)[0]\n",
    "\n",
    "            atom_feature_reshape = atom_feature.view(batch_size*mol_length, fingerprint_dim)\n",
    "            max_features_reshape = max_features.view(batch_size*mol_length, fingerprint_dim)\n",
    "            atom_feature_GRU = self.atom_GRU[d+1](max_features_reshape, atom_feature_reshape)\n",
    "            atom_feature = atom_feature_GRU.view(batch_size, mol_length, fingerprint_dim) * atom_mask\n",
    "        mol_feature = torch.sum(atom_feature,-2)            \n",
    "        fused_feature = mol_feature\n",
    "        for t in range(self.T):\n",
    "            fused_feature = self.fused_GRU(seq_embeddings, fused_feature)\n",
    "        fused_prediction = self.output(self.dropout(F.relu(fused_feature)))\n",
    "        return fused_prediction"
   ]
  },
  {
   "cell_type": "code",
   "execution_count": 3,
   "metadata": {
    "_kg_hide-input": false
   },
   "outputs": [],
   "source": [
    "from rdkit import Chem\n",
    "# from rdkit.Chem import AllChem\n",
    "from rdkit.Chem import QED\n",
    "%matplotlib inline\n",
    "from numpy.polynomial.polynomial import polyfit\n",
    "import matplotlib.pyplot as plt\n",
    "import matplotlib.cm as cm\n",
    "import matplotlib\n",
    "from IPython.display import SVG, display\n",
    "import seaborn as sns; sns.set(color_codes=True)\n",
    "import pandas as pd\n",
    "from sklearn.metrics import roc_auc_score\n",
    "from sklearn.metrics import matthews_corrcoef\n",
    "from sklearn.metrics import recall_score\n",
    "from sklearn.metrics import accuracy_score\n",
    "from sklearn.metrics import r2_score\n",
    "from sklearn.metrics import mean_squared_error\n",
    "from sklearn.metrics import mean_absolute_error\n",
    "from sklearn.metrics import precision_score\n",
    "from sklearn.metrics import precision_recall_curve\n",
    "from sklearn.metrics import auc\n",
    "from sklearn.metrics import f1_score"
   ]
  },
  {
   "cell_type": "code",
   "execution_count": 4,
   "metadata": {},
   "outputs": [
    {
     "name": "stdout",
     "output_type": "stream",
     "text": [
      "all number:  13383\n",
      "number of screen libary:  5318\n",
      "2-D08\n",
      "9-Aminoacridine\n",
      "A-196\n",
      "Acetylvanillin\n",
      "Aminoacrid\n",
      "Apremilast\n",
      "Benorylate\n",
      "Etoposide\n",
      "Fenspiride\n",
      "S7983\n",
      "SMILES\n",
      "VU\n",
      "number of processed smiles:  5273\n"
     ]
    },
    {
     "data": {
      "image/png": "[encoded data removed]",
      "text/plain": [
       "<Figure size 360x216 with 1 Axes>"
      ]
     },
     "metadata": {},
     "output_type": "display_data"
    }
   ],
   "source": [
    "smilesList = []\n",
    "with open('../data/screen_library.txt','rb') as f:\n",
    "    for line in f:\n",
    "        smilesList.append(line.split()[0].decode(\"utf-8\"))\n",
    "        \n",
    "print(\"all number: \",len(smilesList))\n",
    "smilesList = sorted(list(set(smilesList)))\n",
    "print(\"number of screen libary: \",len(smilesList))\n",
    "atom_num_dist = []\n",
    "remained_smiles = []\n",
    "canonical_smiles_list = []\n",
    "for smiles in smilesList:\n",
    "    try:        \n",
    "        mol = Chem.MolFromSmiles(smiles)\n",
    "        if len(mol.GetAtoms()) < 101:\n",
    "            atom_num_dist.append(len(mol.GetAtoms()))\n",
    "            remained_smiles.append(smiles)\n",
    "            canonical_smiles_list.append(Chem.MolToSmiles(Chem.MolFromSmiles(smiles), isomericSmiles=True))\n",
    "    except:\n",
    "        print(smiles)\n",
    "        pass\n",
    "print(\"number of processed smiles: \", len(remained_smiles))\n",
    "\n",
    "plt.figure(figsize=(5, 3))\n",
    "sns.set(font_scale=1.5)\n",
    "ax = sns.distplot(atom_num_dist, bins=28, kde=False)\n",
    "plt.tight_layout()\n",
    "plt.show()\n",
    "plt.close()"
   ]
  },
  {
   "cell_type": "code",
   "execution_count": 5,
   "metadata": {},
   "outputs": [
    {
     "name": "stdout",
     "output_type": "stream",
     "text": [
      "['AURKA', 'BRAF', 'FGFR1', 'MAP3K7', 'MAPK15', 'MKNK1', 'PAK1', 'PAK3', 'PDPK1', 'PIK3CA', 'RET', 'RPS6KB1', 'SRC', 'STK11', 'TTK']\n"
     ]
    }
   ],
   "source": [
    "task_name = 'Multi-Targeting'\n",
    "tasks = ['activity']\n",
    "sub_task1 = ['RET','MKNK1','BRAF','SRC','RPS6KB1','TTK','MAPK15','PDPK1','PAK3']\n",
    "sub_task2 = ['AURKA','PAK1','FGFR1','STK11','PAK3','MAP3K7','PIK3CA']\n",
    "\n",
    "kinase_seq_embedding = pd.read_csv('../data/kinase_seq_embedding.csv')\n",
    "\n",
    "seq_embeddings_dict = {}\n",
    "for kinase in list(set(sub_task1 + sub_task2)):\n",
    "    seq_embeddings_dict[kinase] = [float(x) for x in kinase_seq_embedding.loc[kinase_seq_embedding['kinase']==kinase].embedding.values[0]\\\n",
    "                                 .replace(\"[\", \"\").replace(\"]\", \"\").replace(\" \", \"\").split(',')]\n",
    "    \n",
    "kinase_list=[]\n",
    "seq_embeddings=[]\n",
    "for k, v in sorted(seq_embeddings_dict.items()):\n",
    "    kinase_list.append(k)\n",
    "    seq_embeddings.append(v)\n",
    "print(kinase_list)\n"
   ]
  },
  {
   "cell_type": "code",
   "execution_count": 6,
   "metadata": {
    "_kg_hide-input": false
   },
   "outputs": [],
   "source": [
    "random_seed = 28\n",
    "start_time = str(time.ctime()).replace(':','-').replace(' ','_')\n",
    "start = time.time()\n",
    "\n",
    "batch_size = 500\n",
    "epochs = 100\n",
    "p_dropout = 0.18\n",
    "fingerprint_dim = 180\n",
    "\n",
    "radius = 5\n",
    "T = 3\n",
    "weight_decay = 4.5 # also known as l2_regularization_lambda\n",
    "learning_rate = 2.8\n",
    "embedding_dim = 100\n",
    "output_units_num = 3 # for classification model"
   ]
  },
  {
   "cell_type": "code",
   "execution_count": 7,
   "metadata": {},
   "outputs": [
    {
     "name": "stdout",
     "output_type": "stream",
     "text": [
      "*\n",
      "*.O=C[Ru]1(Cl)(C=O)(C=O)NCC(=O)O1\n",
      "N#C[Fe-2](C#N)(C#N)(C#N)(C#N)N=O.[Na+].[Na+]\n",
      "[I-].[K+]\n"
     ]
    }
   ],
   "source": [
    "feature_dicts = get_smiles_dicts(remained_smiles)\n",
    "remained_smiles = list(feature_dicts['smiles_to_atom_mask'].keys())\n",
    "x_atom, x_bonds, x_atom_index, x_bond_index, x_mask, smiles_to_rdkit_list = get_smiles_array([remained_smiles[0]],feature_dicts)\n",
    "num_atom_features = x_atom.shape[-1]\n",
    "num_bond_features = x_bonds.shape[-1]\n",
    "# print(num_atom_features,num_bond_features)\n",
    "# tensorboard = SummaryWriter(log_dir=\"runs/\"+start_time+\"_\"+str(fingerprint_dim)+\"_\"+str(p_dropout))\n",
    "# OUTPUT = open('performance/kinase_peformance_'+start_time+'.csv', 'a')\n",
    "\n",
    "loss_function = nn.CrossEntropyLoss() # torch.Tensor(loss_weight)\n",
    "model = FusedEmbedding(radius, T, num_atom_features, num_bond_features,\\\n",
    "            fingerprint_dim, embedding_dim, output_units_num, p_dropout)\n",
    "model.cuda()\n",
    "\n",
    "optimizer = optim.Adam(model.parameters(), 10**-learning_rate, weight_decay=10**-weight_decay)\n"
   ]
  },
  {
   "cell_type": "code",
   "execution_count": 8,
   "metadata": {},
   "outputs": [],
   "source": [
    "model_parameters = filter(lambda p: p.requires_grad, model.parameters())\n",
    "# for p in model.parameters():\n",
    "#     if p.dim() > 1:\n",
    "#         nn.init.xavier_uniform_(p)\n",
    "params = sum([np.prod(p.size()) for p in model_parameters])\n",
    "# print(params)\n",
    "# for name, param in model.named_parameters():\n",
    "#     if param.requires_grad:\n",
    "#         print(name, param.data.shape)\n",
    "        "
   ]
  },
  {
   "cell_type": "code",
   "execution_count": 9,
   "metadata": {},
   "outputs": [],
   "source": [
    "def predict(model, smilesList, seq_embeddings):\n",
    "    model.eval()\n",
    "    y_pred_list = []\n",
    "    for smiles in smilesList:\n",
    "        smiles_list = [smiles] * 15\n",
    "        x_atom, x_bonds, x_atom_index, x_bond_index, x_mask, smiles_to_rdkit_list = get_smiles_array(smiles_list,feature_dicts)\n",
    "        mol_prediction = model(torch.Tensor(x_atom),torch.Tensor(x_bonds),torch.cuda.LongTensor(x_atom_index),\\\n",
    "                                                 torch.cuda.LongTensor(x_bond_index),torch.Tensor(x_mask),torch.Tensor(seq_embeddings))\n",
    "\n",
    "        y_pred = torch.argmax(mol_prediction, dim=-1).data.squeeze().cpu().numpy()\n",
    "        \n",
    "        y_pred_list.append(y_pred)\n",
    "        \n",
    "    return np.array(y_pred_list)"
   ]
  },
  {
   "cell_type": "code",
   "execution_count": 24,
   "metadata": {
    "scrolled": true
   },
   "outputs": [],
   "source": [
    "# evaluate model\n",
    "checkpoint = torch.load('saved_models/model_5r_3T_68.pt')\n",
    "model.load_state_dict(checkpoint['model_state_dict'])\n",
    "# optimizer.load_state_dict(checkpoint['optimizer_state_dict'])\n",
    "\n",
    "y_pred_list = predict(model, remained_smiles, seq_embeddings)\n"
   ]
  },
  {
   "cell_type": "code",
   "execution_count": 11,
   "metadata": {},
   "outputs": [],
   "source": [
    "result_df = pd.DataFrame(data=y_pred_list,\n",
    "             columns=kinase_list) "
   ]
  },
  {
   "cell_type": "code",
   "execution_count": 12,
   "metadata": {},
   "outputs": [],
   "source": [
    "result_df['smiles']=remained_smiles\n",
    "result_df.to_csv('../data/model_5r_3T_68.csv',index=False)"
   ]
  },
  {
   "cell_type": "code",
   "execution_count": 13,
   "metadata": {},
   "outputs": [],
   "source": [
    "result_df = pd.read_csv('../data/model_5r_3T_68.csv')"
   ]
  },
  {
   "cell_type": "code",
   "execution_count": 25,
   "metadata": {},
   "outputs": [
    {
     "data": {
      "text/html": [
       "<div>\n",
       "<style scoped>\n",
       "    .dataframe tbody tr th:only-of-type {\n",
       "        vertical-align: middle;\n",
       "    }\n",
       "\n",
       "    .dataframe tbody tr th {\n",
       "        vertical-align: top;\n",
       "    }\n",
       "\n",
       "    .dataframe thead th {\n",
       "        text-align: right;\n",
       "    }\n",
       "</style>\n",
       "<table border=\"1\" class=\"dataframe\">\n",
       "  <thead>\n",
       "    <tr style=\"text-align: right;\">\n",
       "      <th></th>\n",
       "      <th>RET</th>\n",
       "      <th>BRAF</th>\n",
       "      <th>SRC</th>\n",
       "      <th>RPS6KB1</th>\n",
       "      <th>MKNK1</th>\n",
       "      <th>TTK</th>\n",
       "      <th>MAPK15</th>\n",
       "      <th>PDPK1</th>\n",
       "      <th>PAK3</th>\n",
       "    </tr>\n",
       "  </thead>\n",
       "  <tbody>\n",
       "    <tr>\n",
       "      <th>1500</th>\n",
       "      <td>2</td>\n",
       "      <td>2</td>\n",
       "      <td>2</td>\n",
       "      <td>2</td>\n",
       "      <td>0</td>\n",
       "      <td>1</td>\n",
       "      <td>0</td>\n",
       "      <td>0</td>\n",
       "      <td>0</td>\n",
       "    </tr>\n",
       "    <tr>\n",
       "      <th>1773</th>\n",
       "      <td>2</td>\n",
       "      <td>2</td>\n",
       "      <td>2</td>\n",
       "      <td>2</td>\n",
       "      <td>0</td>\n",
       "      <td>2</td>\n",
       "      <td>2</td>\n",
       "      <td>1</td>\n",
       "      <td>0</td>\n",
       "    </tr>\n",
       "    <tr>\n",
       "      <th>3015</th>\n",
       "      <td>2</td>\n",
       "      <td>2</td>\n",
       "      <td>2</td>\n",
       "      <td>2</td>\n",
       "      <td>0</td>\n",
       "      <td>2</td>\n",
       "      <td>2</td>\n",
       "      <td>2</td>\n",
       "      <td>2</td>\n",
       "    </tr>\n",
       "    <tr>\n",
       "      <th>3452</th>\n",
       "      <td>2</td>\n",
       "      <td>2</td>\n",
       "      <td>2</td>\n",
       "      <td>2</td>\n",
       "      <td>0</td>\n",
       "      <td>1</td>\n",
       "      <td>2</td>\n",
       "      <td>0</td>\n",
       "      <td>2</td>\n",
       "    </tr>\n",
       "    <tr>\n",
       "      <th>3472</th>\n",
       "      <td>2</td>\n",
       "      <td>2</td>\n",
       "      <td>2</td>\n",
       "      <td>2</td>\n",
       "      <td>0</td>\n",
       "      <td>1</td>\n",
       "      <td>2</td>\n",
       "      <td>0</td>\n",
       "      <td>2</td>\n",
       "    </tr>\n",
       "    <tr>\n",
       "      <th>4356</th>\n",
       "      <td>2</td>\n",
       "      <td>2</td>\n",
       "      <td>2</td>\n",
       "      <td>2</td>\n",
       "      <td>0</td>\n",
       "      <td>2</td>\n",
       "      <td>2</td>\n",
       "      <td>2</td>\n",
       "      <td>2</td>\n",
       "    </tr>\n",
       "  </tbody>\n",
       "</table>\n",
       "</div>"
      ],
      "text/plain": [
       "      RET  BRAF  SRC  RPS6KB1  MKNK1  TTK  MAPK15  PDPK1  PAK3\n",
       "1500    2     2    2        2      0    1       0      0     0\n",
       "1773    2     2    2        2      0    2       2      1     0\n",
       "3015    2     2    2        2      0    2       2      2     2\n",
       "3452    2     2    2        2      0    1       2      0     2\n",
       "3472    2     2    2        2      0    1       2      0     2\n",
       "4356    2     2    2        2      0    2       2      2     2"
      ]
     },
     "execution_count": 25,
     "metadata": {},
     "output_type": "execute_result"
    }
   ],
   "source": [
    "sub_task1 = ['RET','BRAF','SRC','RPS6KB1','MKNK1','TTK','MAPK15','PDPK1','PAK3']\n",
    "sub1_df = result_df[sub_task1]\n",
    "sub1_df.loc[(sub1_df['RET'] == 2) & (sub1_df['MKNK1'] == 0) \\\n",
    "            & (sub1_df['BRAF'] == 2) & (sub1_df['SRC'] == 2) & (sub1_df['RPS6KB1'] == 2)] #  "
   ]
  },
  {
   "cell_type": "code",
   "execution_count": 26,
   "metadata": {},
   "outputs": [
    {
     "name": "stdout",
     "output_type": "stream",
     "text": [
      "1500 b'NG25.cdx'\n"
     ]
    }
   ],
   "source": [
    "# get compound by index\n",
    "with open('../data/screen_library.txt','rb') as f:\n",
    "    for line in f:\n",
    "        if line.split()[0].decode(\"utf-8\") == remained_smiles[1500]:\n",
    "            print('1500',line.split()[2])\n"
   ]
  },
  {
   "cell_type": "code",
   "execution_count": 27,
   "metadata": {},
   "outputs": [
    {
     "data": {
      "text/html": [
       "<div>\n",
       "<style scoped>\n",
       "    .dataframe tbody tr th:only-of-type {\n",
       "        vertical-align: middle;\n",
       "    }\n",
       "\n",
       "    .dataframe tbody tr th {\n",
       "        vertical-align: top;\n",
       "    }\n",
       "\n",
       "    .dataframe thead th {\n",
       "        text-align: right;\n",
       "    }\n",
       "</style>\n",
       "<table border=\"1\" class=\"dataframe\">\n",
       "  <thead>\n",
       "    <tr style=\"text-align: right;\">\n",
       "      <th></th>\n",
       "      <th>AURKA</th>\n",
       "      <th>PAK1</th>\n",
       "      <th>FGFR1</th>\n",
       "      <th>STK11</th>\n",
       "      <th>PAK3</th>\n",
       "      <th>MAP3K7</th>\n",
       "      <th>PIK3CA</th>\n",
       "    </tr>\n",
       "  </thead>\n",
       "  <tbody>\n",
       "    <tr>\n",
       "      <th>891</th>\n",
       "      <td>1</td>\n",
       "      <td>1</td>\n",
       "      <td>1</td>\n",
       "      <td>0</td>\n",
       "      <td>0</td>\n",
       "      <td>0</td>\n",
       "      <td>0</td>\n",
       "    </tr>\n",
       "    <tr>\n",
       "      <th>904</th>\n",
       "      <td>1</td>\n",
       "      <td>1</td>\n",
       "      <td>1</td>\n",
       "      <td>0</td>\n",
       "      <td>0</td>\n",
       "      <td>0</td>\n",
       "      <td>1</td>\n",
       "    </tr>\n",
       "    <tr>\n",
       "      <th>2499</th>\n",
       "      <td>1</td>\n",
       "      <td>1</td>\n",
       "      <td>2</td>\n",
       "      <td>0</td>\n",
       "      <td>0</td>\n",
       "      <td>0</td>\n",
       "      <td>0</td>\n",
       "    </tr>\n",
       "    <tr>\n",
       "      <th>3317</th>\n",
       "      <td>1</td>\n",
       "      <td>1</td>\n",
       "      <td>2</td>\n",
       "      <td>0</td>\n",
       "      <td>0</td>\n",
       "      <td>0</td>\n",
       "      <td>1</td>\n",
       "    </tr>\n",
       "    <tr>\n",
       "      <th>5044</th>\n",
       "      <td>1</td>\n",
       "      <td>1</td>\n",
       "      <td>1</td>\n",
       "      <td>0</td>\n",
       "      <td>0</td>\n",
       "      <td>0</td>\n",
       "      <td>0</td>\n",
       "    </tr>\n",
       "  </tbody>\n",
       "</table>\n",
       "</div>"
      ],
      "text/plain": [
       "      AURKA  PAK1  FGFR1  STK11  PAK3  MAP3K7  PIK3CA\n",
       "891       1     1      1      0     0       0       0\n",
       "904       1     1      1      0     0       0       1\n",
       "2499      1     1      2      0     0       0       0\n",
       "3317      1     1      2      0     0       0       1\n",
       "5044      1     1      1      0     0       0       0"
      ]
     },
     "execution_count": 27,
     "metadata": {},
     "output_type": "execute_result"
    }
   ],
   "source": [
    "sub_task2 = ['AURKA','PAK1','FGFR1','STK11','PAK3','MAP3K7','PIK3CA']\n",
    "sub2_df = result_df[sub_task2]\n",
    "\n",
    "# sub2_df.loc[((sub2_df['AURKA'] == 2) | (sub2_df['AURKA'] == 1)) \\\n",
    "#             & ((sub2_df['PAK1'] == 2) | (sub2_df['PAK1'] == 1)) \\\n",
    "#             & ((sub2_df['PAK3'] == 0) | (sub2_df['PAK3'] == 1)) \\\n",
    "#             & ((sub2_df['MAP3K7'] == 0) | (sub2_df['MAP3K7'] == 1))] #  \n",
    "\n",
    "# sub2_df.loc[(sub2_df['AURKA'] == 2)\\\n",
    "#             & ((sub2_df['PAK1'] == 2) | (sub2_df['PAK1'] == 1)) \\\n",
    "#             & ((sub2_df['PAK3'] == 0)) \\\n",
    "#             & ((sub2_df['MAP3K7'] == 0))] \n",
    "\n",
    "sub2_df.loc[((sub2_df['AURKA'] == 2) | (sub2_df['AURKA'] == 1))\\\n",
    "            & ((sub2_df['PAK1'] == 2) | (sub2_df['PAK1'] == 1)) \\\n",
    "            & ((sub2_df['FGFR1'] == 2) | (sub2_df['FGFR1'] == 1)) \\\n",
    "            & ((sub2_df['PAK3'] == 0)) \\\n",
    "            & ((sub2_df['MAP3K7'] == 0))] #  \n"
   ]
  },
  {
   "cell_type": "code",
   "execution_count": 28,
   "metadata": {
    "scrolled": true
   },
   "outputs": [
    {
     "name": "stdout",
     "output_type": "stream",
     "text": [
      "3317 b'PHA-665752'\n",
      "2499 b'HG-9-91-01'\n"
     ]
    }
   ],
   "source": [
    "with open('../data/screen_library.txt','rb') as f:\n",
    "    for line in f:\n",
    "        if line.split()[0].decode(\"utf-8\") == remained_smiles[2499]:\n",
    "            print('2499',line.split()[2])\n",
    "        elif line.split()[0].decode(\"utf-8\") == remained_smiles[3317]:\n",
    "            print('3317',line.split()[2])        "
   ]
  },
  {
   "cell_type": "code",
   "execution_count": null,
   "metadata": {},
   "outputs": [],
   "source": []
  }
 ],
 "metadata": {
  "kernelspec": {
   "display_name": "Python 3",
   "language": "python",
   "name": "python3"
  },
  "language_info": {
   "codemirror_mode": {
    "name": "ipython",
    "version": 3
   },
   "file_extension": ".py",
   "mimetype": "text/x-python",
   "name": "python",
   "nbconvert_exporter": "python",
   "pygments_lexer": "ipython3",
   "version": "3.7.2"
  }
 },
 "nbformat": 4,
 "nbformat_minor": 1
}
